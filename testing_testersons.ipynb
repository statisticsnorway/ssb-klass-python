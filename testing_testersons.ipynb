{
 "cells": [
  {
   "cell_type": "code",
   "execution_count": null,
   "id": "8b91aa3d-4a1d-41ea-a572-ad6c72de9152",
   "metadata": {
    "tags": []
   },
   "outputs": [],
   "source": [
    "import tests.mock_request_functions as mock_returns"
   ]
  },
  {
   "cell_type": "code",
   "execution_count": null,
   "id": "73261c21-cbef-4693-9d05-136293e42651",
   "metadata": {
    "tags": []
   },
   "outputs": [],
   "source": [
    "mock_returns.changes_success()"
   ]
  },
  {
   "cell_type": "code",
   "execution_count": null,
   "id": "ad3e417a-2991-4089-b954-b99a8235afd7",
   "metadata": {
    "tags": []
   },
   "outputs": [],
   "source": [
    "from klass.klass_config import KlassConfig"
   ]
  },
  {
   "cell_type": "code",
   "execution_count": null,
   "id": "a3eab401-bde3-4637-87f6-d385d20202b4",
   "metadata": {
    "tags": []
   },
   "outputs": [],
   "source": [
    "KlassConfig().TESTING = True"
   ]
  },
  {
   "cell_type": "code",
   "execution_count": null,
   "id": "6be93f7c-16d4-4fcf-b573-8d17eff183a7",
   "metadata": {},
   "outputs": [],
   "source": [
    "from klass.requests.klass_requests import codes_at"
   ]
  },
  {
   "cell_type": "code",
   "execution_count": null,
   "id": "659eeb39-0efb-4e4e-9dcd-a8b1f77b201d",
   "metadata": {
    "tags": []
   },
   "outputs": [],
   "source": [
    "codes_at(\"36\", \"2020-01-01\")"
   ]
  },
  {
   "cell_type": "code",
   "execution_count": null,
   "id": "3bbd8768-f6c5-4468-9197-8eec97fc7780",
   "metadata": {
    "tags": []
   },
   "outputs": [],
   "source": [
    "from klass.requests.klass_requests import variant_at, variant, variants_by_id"
   ]
  },
  {
   "cell_type": "code",
   "execution_count": null,
   "id": "6ce5fdab-f0be-4294-b303-8e15288d2c1a",
   "metadata": {
    "tags": []
   },
   "outputs": [],
   "source": [
    "variants_by_id(\"Studiepoeng ved fagskole\")"
   ]
  },
  {
   "cell_type": "code",
   "execution_count": null,
   "id": "74b65959-745e-4d46-a16e-649670720407",
   "metadata": {
    "tags": []
   },
   "outputs": [],
   "source": [
    "variant(\"36\", \"Studiepoeng ved fagskole\", \"2014-01-01\")"
   ]
  },
  {
   "cell_type": "code",
   "execution_count": null,
   "id": "3e0bb3af-616c-47bd-84bd-d3527e6d6da7",
   "metadata": {
    "tags": []
   },
   "outputs": [],
   "source": [
    "\"Utdanningsgruppering (NUS) 2014\""
   ]
  },
  {
   "cell_type": "code",
   "execution_count": null,
   "id": "4be9008f-417b-4563-b354-c90dfc002e80",
   "metadata": {
    "tags": []
   },
   "outputs": [],
   "source": [
    "from klass import KlassVariant"
   ]
  },
  {
   "cell_type": "code",
   "execution_count": null,
   "id": "a889bf9d-e2bc-4ed3-9d3e-c8ad965bdf92",
   "metadata": {
    "tags": []
   },
   "outputs": [],
   "source": [
    "KlassVariant(\"1959\").classificationItems"
   ]
  },
  {
   "cell_type": "code",
   "execution_count": null,
   "id": "859258b8-006d-4501-8fa4-296591f978a5",
   "metadata": {
    "tags": []
   },
   "outputs": [],
   "source": [
    "from klass import corresponds"
   ]
  },
  {
   "cell_type": "code",
   "execution_count": null,
   "id": "d9ac822f-b610-4af6-a4d5-8d4ac0f30fe5",
   "metadata": {
    "tags": []
   },
   "outputs": [],
   "source": [
    "corresponds(\"127\", \"131\", \"2020-01-01\")"
   ]
  },
  {
   "cell_type": "code",
   "execution_count": null,
   "id": "9e9cc8ac-96cb-4dff-9d4d-50a58128e319",
   "metadata": {},
   "outputs": [],
   "source": []
  }
 ],
 "metadata": {
  "language_info": {
   "codemirror_mode": {
    "name": "ipython"
   },
   "file_extension": ".py",
   "mimetype": "text/x-python",
   "name": "python",
   "nbconvert_exporter": "python"
  }
 },
 "nbformat": 4,
 "nbformat_minor": 5
}
