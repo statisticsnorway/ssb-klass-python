{
 "cells": [
  {
   "cell_type": "code",
   "execution_count": null,
   "id": "88abf187-dc20-41a3-b9cf-e376880b7f9d",
   "metadata": {
    "tags": []
   },
   "outputs": [],
   "source": [
    "import dateutil.parser"
   ]
  },
  {
   "cell_type": "code",
   "execution_count": null,
   "id": "c74fa785-c90a-490c-b4ba-1e071380f27d",
   "metadata": {
    "tags": []
   },
   "outputs": [],
   "source": [
    "type(dateutil.parser.parse(\"2020-01-01\"))"
   ]
  },
  {
   "cell_type": "code",
   "execution_count": null,
   "id": "e0ee33b2-03bd-40d5-8bf9-4133f1f29d7d",
   "metadata": {
    "tags": []
   },
   "outputs": [],
   "source": [
    "import datetime"
   ]
  },
  {
   "cell_type": "code",
   "execution_count": null,
   "id": "37c07b4c-d8d9-4971-bd8a-9196fd3ae326",
   "metadata": {
    "tags": []
   },
   "outputs": [],
   "source": [
    "dateutil.parser.parse(datetime.datetime.now())"
   ]
  },
  {
   "cell_type": "code",
   "execution_count": null,
   "id": "8b91aa3d-4a1d-41ea-a572-ad6c72de9152",
   "metadata": {
    "tags": []
   },
   "outputs": [],
   "source": [
    "import tests.mock_request_functions as mock_returns"
   ]
  },
  {
   "cell_type": "code",
   "execution_count": null,
   "id": "73261c21-cbef-4693-9d05-136293e42651",
   "metadata": {
    "tags": []
   },
   "outputs": [],
   "source": [
    "mock_returns.changes_success()"
   ]
  },
  {
   "cell_type": "code",
   "execution_count": null,
   "id": "6be93f7c-16d4-4fcf-b573-8d17eff183a7",
   "metadata": {},
   "outputs": [],
   "source": [
    "from klass.requests.klass_requests import codes_at"
   ]
  },
  {
   "cell_type": "code",
   "execution_count": null,
   "id": "659eeb39-0efb-4e4e-9dcd-a8b1f77b201d",
   "metadata": {
    "tags": []
   },
   "outputs": [],
   "source": [
    "codes_at(\"36\", \"2020-01-01\")"
   ]
  },
  {
   "cell_type": "code",
   "execution_count": null,
   "id": "3bbd8768-f6c5-4468-9197-8eec97fc7780",
   "metadata": {
    "tags": []
   },
   "outputs": [],
   "source": [
    "from klass.requests.klass_requests import variant_at, variant, variants_by_id"
   ]
  },
  {
   "cell_type": "code",
   "execution_count": null,
   "id": "6ce5fdab-f0be-4294-b303-8e15288d2c1a",
   "metadata": {
    "tags": []
   },
   "outputs": [],
   "source": [
    "variants_by_id(\"Studiepoeng ved fagskole\")"
   ]
  },
  {
   "cell_type": "code",
   "execution_count": null,
   "id": "74b65959-745e-4d46-a16e-649670720407",
   "metadata": {
    "tags": []
   },
   "outputs": [],
   "source": [
    "variant(\"36\", \"Studiepoeng ved fagskole\", \"2014-01-01\")"
   ]
  },
  {
   "cell_type": "code",
   "execution_count": null,
   "id": "3e0bb3af-616c-47bd-84bd-d3527e6d6da7",
   "metadata": {
    "tags": []
   },
   "outputs": [],
   "source": [
    "\"Utdanningsgruppering (NUS) 2014\""
   ]
  },
  {
   "cell_type": "code",
   "execution_count": null,
   "id": "4be9008f-417b-4563-b354-c90dfc002e80",
   "metadata": {
    "tags": []
   },
   "outputs": [],
   "source": [
    "from klass import KlassVariant, KlassVariantSearch"
   ]
  },
  {
   "cell_type": "code",
   "execution_count": null,
   "id": "1e07f05f-635c-4172-9b7b-05e6249436e4",
   "metadata": {
    "tags": []
   },
   "outputs": [],
   "source": [
    "s = KlassVariantSearch(\"36\", \"Studiepoeng ved fagskole\", \"2023-01-01\")"
   ]
  },
  {
   "cell_type": "code",
   "execution_count": null,
   "id": "fd770aef-957a-4903-b719-6918277eb395",
   "metadata": {
    "tags": []
   },
   "outputs": [],
   "source": [
    "s.data"
   ]
  },
  {
   "cell_type": "code",
   "execution_count": null,
   "id": "2e506802-a0e6-4eca-b477-3f8b2a4fb7ac",
   "metadata": {
    "tags": []
   },
   "outputs": [],
   "source": [
    "from klass import KlassCorrespondance\n",
    "from klass.klass_config import KlassConfig\n",
    "KlassConfig().TESTING = True"
   ]
  },
  {
   "cell_type": "code",
   "execution_count": null,
   "id": "e71d4a0e-e34f-4bb5-8692-979fff4d7a01",
   "metadata": {
    "tags": []
   },
   "outputs": [],
   "source": [
    "kommune_inn = KlassCorrespondance(source_classification_id=\"131\", target_classification_id=\"104\", from_date=\"2020-01-01\")"
   ]
  },
  {
   "cell_type": "code",
   "execution_count": null,
   "id": "1cd81310-554f-4860-a4f0-1c92ae83df8b",
   "metadata": {
    "tags": []
   },
   "outputs": [],
   "source": [
    "kommune_inn = KlassCorrespondance(\"1286\")"
   ]
  },
  {
   "cell_type": "code",
   "execution_count": null,
   "id": "60015fe4-46f9-47b3-b113-7a2fc343ad30",
   "metadata": {
    "tags": []
   },
   "outputs": [],
   "source": [
    "kommune_inn.data"
   ]
  },
  {
   "cell_type": "code",
   "execution_count": null,
   "id": "07ebe208-0e34-47c7-9d7f-790d9cdddf63",
   "metadata": {
    "tags": []
   },
   "outputs": [],
   "source": [
    "vars(kommune_inn)"
   ]
  },
  {
   "cell_type": "code",
   "execution_count": null,
   "id": "859258b8-006d-4501-8fa4-296591f978a5",
   "metadata": {
    "tags": []
   },
   "outputs": [],
   "source": [
    "from klass import corresponds"
   ]
  },
  {
   "cell_type": "code",
   "execution_count": null,
   "id": "d9ac822f-b610-4af6-a4d5-8d4ac0f30fe5",
   "metadata": {
    "tags": []
   },
   "outputs": [],
   "source": [
    "corresponds(\"127\", \"131\", \"2020-01-01\")"
   ]
  },
  {
   "cell_type": "code",
   "execution_count": null,
   "id": "9e9cc8ac-96cb-4dff-9d4d-50a58128e319",
   "metadata": {},
   "outputs": [],
   "source": []
  }
 ],
 "metadata": {
  "language_info": {
   "codemirror_mode": {
    "name": "ipython"
   },
   "file_extension": ".py",
   "mimetype": "text/x-python",
   "name": "python",
   "nbconvert_exporter": "python"
  }
 },
 "nbformat": 4,
 "nbformat_minor": 5
}
