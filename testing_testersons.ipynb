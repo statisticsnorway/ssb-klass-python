{
 "cells": [
  {
   "cell_type": "code",
   "execution_count": null,
   "id": "8b91aa3d-4a1d-41ea-a572-ad6c72de9152",
   "metadata": {
    "tags": []
   },
   "outputs": [],
   "source": [
    "import tests.mock_request_functions as mock_returns"
   ]
  },
  {
   "cell_type": "code",
   "execution_count": null,
   "id": "73261c21-cbef-4693-9d05-136293e42651",
   "metadata": {
    "tags": []
   },
   "outputs": [],
   "source": [
    "mock_returns.changes_success()"
   ]
  },
  {
   "cell_type": "code",
   "execution_count": null,
   "id": "6be93f7c-16d4-4fcf-b573-8d17eff183a7",
   "metadata": {},
   "outputs": [],
   "source": []
  }
 ],
 "metadata": {
  "language_info": {
   "codemirror_mode": {
    "name": "ipython"
   },
   "file_extension": ".py",
   "mimetype": "text/x-python",
   "name": "python",
   "nbconvert_exporter": "python"
  }
 },
 "nbformat": 4,
 "nbformat_minor": 5
}
