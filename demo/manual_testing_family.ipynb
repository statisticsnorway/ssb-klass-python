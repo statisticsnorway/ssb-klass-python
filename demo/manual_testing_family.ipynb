{
 "cells": [
  {
   "cell_type": "code",
   "execution_count": null,
   "id": "c199fe3c-6bdb-49ea-a866-b309c3d1bccd",
   "metadata": {
    "tags": []
   },
   "outputs": [],
   "source": [
    "from klass import KlassClassification"
   ]
  },
  {
   "cell_type": "code",
   "execution_count": null,
   "id": "eec86a62-ef9c-43b9-9850-0feca460d6dc",
   "metadata": {
    "tags": []
   },
   "outputs": [],
   "source": [
    "nus2000 = KlassClassification(\"36\")"
   ]
  },
  {
   "cell_type": "code",
   "execution_count": null,
   "id": "d655c478-3982-42b9-896a-590e1f308c9a",
   "metadata": {
    "tags": []
   },
   "outputs": [],
   "source": [
    "nus2000.name"
   ]
  },
  {
   "cell_type": "code",
   "execution_count": null,
   "id": "ea195d31-680f-4cc6-a5c8-c518fd28a4be",
   "metadata": {
    "tags": []
   },
   "outputs": [],
   "source": [
    "nus2000.contactPerson"
   ]
  },
  {
   "cell_type": "code",
   "execution_count": null,
   "id": "12e6cab9-0f48-455a-ae61-7859cc4c1cf1",
   "metadata": {
    "tags": []
   },
   "outputs": [],
   "source": [
    "nus2000.owningSection"
   ]
  },
  {
   "cell_type": "code",
   "execution_count": null,
   "id": "6a40b7cd-a10e-40ab-9d47-ed5cd282293c",
   "metadata": {},
   "outputs": [],
   "source": []
  }
 ],
 "metadata": {
  "language_info": {
   "codemirror_mode": {
    "name": "ipython"
   },
   "file_extension": ".py",
   "mimetype": "text/x-python",
   "name": "python",
   "nbconvert_exporter": "python"
  }
 },
 "nbformat": 4,
 "nbformat_minor": 5
}
