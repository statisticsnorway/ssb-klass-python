{
 "cells": [
  {
   "cell_type": "code",
   "execution_count": null,
   "id": "bebfdb16-25ec-4570-88b0-c94f8b441beb",
   "metadata": {
    "tags": []
   },
   "outputs": [],
   "source": [
    "import klass_requests as klass\n",
    "import pandas as pd"
   ]
  },
  {
   "cell_type": "code",
   "execution_count": null,
   "id": "93fc0650-ed94-4f7b-a2ce-ee4d2236d576",
   "metadata": {},
   "outputs": [],
   "source": [
    "klassifikasjoner = klass.classifications(include_codelists=True,\n",
    "                                   changed_since=\"2022-01-01\")"
   ]
  },
  {
   "cell_type": "code",
   "execution_count": null,
   "id": "2391d794-f71e-49b0-a391-246f036424da",
   "metadata": {
    "tags": []
   },
   "outputs": [],
   "source": [
    "klassifikasjoner[\"_links\"]"
   ]
  },
  {
   "cell_type": "code",
   "execution_count": null,
   "id": "5b8aed1e-63d4-4717-95a3-143c06e7792d",
   "metadata": {
    "tags": []
   },
   "outputs": [],
   "source": [
    "klassifikasjoner[\"page\"]"
   ]
  },
  {
   "cell_type": "code",
   "execution_count": null,
   "id": "0db6ea95-4923-443b-af14-11d81a637cd8",
   "metadata": {
    "tags": []
   },
   "outputs": [],
   "source": [
    "from IPython.display import Markdown"
   ]
  },
  {
   "cell_type": "code",
   "execution_count": null,
   "id": "06286161-4236-44f1-9c37-5de12ca34695",
   "metadata": {
    "tags": []
   },
   "outputs": [],
   "source": [
    "data = pd.DataFrame({\"Id\": [],\n",
    "                     \"Name\": [],\n",
    "                     \"Link\": [],\n",
    "                     \"Last modified\": []})\n",
    "for linkname, link in klassifikasjoner[\"_links\"].items():\n",
    "    print(linkname, link[\"href\"])\n",
    "for classification in klassifikasjoner[\"_embedded\"][\"classifications\"]:\n",
    "    name = classification[\"name\"]\n",
    "    classificationType = classification[\"classificationType\"]\n",
    "    lastModified = classification[\"lastModified\"]\n",
    "    link_self = classification[\"_links\"][\"self\"][\"href\"]\n",
    "    classification_id = link_self.split(\"/\")[-1]\n",
    "    data.loc[len(data.index)]  = [classification_id, name, link_self, lastModified]\n",
    "    display(Markdown(f\"{classification_id} [{name}]({link_self}), {lastModified}\"))"
   ]
  },
  {
   "cell_type": "code",
   "execution_count": null,
   "id": "82a04a11-e0ce-4829-9e22-0d59c0d57277",
   "metadata": {},
   "outputs": [],
   "source": []
  }
 ],
 "metadata": {
  "language_info": {
   "codemirror_mode": {
    "name": "ipython"
   },
   "file_extension": ".py",
   "mimetype": "text/x-python",
   "name": "python",
   "nbconvert_exporter": "python"
  }
 },
 "nbformat": 4,
 "nbformat_minor": 5
}
