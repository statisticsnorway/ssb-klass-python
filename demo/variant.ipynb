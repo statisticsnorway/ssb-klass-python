{
 "cells": [
  {
   "cell_type": "code",
   "execution_count": null,
   "id": "a9d38711-6712-40ae-84f3-e79b593144b7",
   "metadata": {
    "tags": []
   },
   "outputs": [],
   "source": [
    "from klass import KlassVariant\n",
    "from klass import KlassVariantSearchByName"
   ]
  },
  {
   "cell_type": "code",
   "execution_count": null,
   "id": "959e5acc-1abe-47ef-9b71-b0e3e70bebbd",
   "metadata": {
    "tags": []
   },
   "outputs": [],
   "source": [
    "studpoeng = KlassVariantSearchByName(36, \"Studiepoeng ved fagskole\", \"2023-01-01\")"
   ]
  },
  {
   "cell_type": "code",
   "execution_count": null,
   "id": "02980ea6-7eee-4f22-878a-20996308cbd3",
   "metadata": {
    "tags": []
   },
   "outputs": [],
   "source": [
    "print(studpoeng)"
   ]
  },
  {
   "cell_type": "code",
   "execution_count": null,
   "id": "26ca3c3d-2698-419b-9b75-46ccd8dd93a2",
   "metadata": {
    "tags": []
   },
   "outputs": [],
   "source": [
    "studpoeng.get_variant()"
   ]
  },
  {
   "cell_type": "code",
   "execution_count": null,
   "id": "ff4c56d3-17a1-4350-a75b-cddf763c54d6",
   "metadata": {},
   "outputs": [],
   "source": []
  },
  {
   "cell_type": "code",
   "execution_count": null,
   "id": "8bd295d2-e308-476c-8309-7f215ecec205",
   "metadata": {
    "tags": []
   },
   "outputs": [],
   "source": [
    "studpoeng2 = KlassVariant(1959)\n",
    "print(studpoeng2)"
   ]
  },
  {
   "cell_type": "code",
   "execution_count": null,
   "id": "38de364a-a8b7-4db6-aa0b-8024bb0581eb",
   "metadata": {
    "tags": []
   },
   "outputs": [],
   "source": [
    "studpoeng2.data"
   ]
  },
  {
   "cell_type": "code",
   "execution_count": null,
   "id": "619e7fe7-9148-4eed-81d5-f8e07c714b66",
   "metadata": {},
   "outputs": [],
   "source": []
  }
 ],
 "metadata": {
  "language_info": {
   "codemirror_mode": {
    "name": "ipython"
   },
   "file_extension": ".py",
   "mimetype": "text/x-python",
   "name": "python",
   "nbconvert_exporter": "python"
  }
 },
 "nbformat": 4,
 "nbformat_minor": 5
}
