{
 "cells": [
  {
   "cell_type": "code",
   "execution_count": null,
   "id": "e7985978-f2e3-4d4b-856f-5d1faeac350b",
   "metadata": {
    "tags": []
   },
   "outputs": [],
   "source": [
    "import os\n",
    "os.chdir(\"../\")"
   ]
  },
  {
   "cell_type": "code",
   "execution_count": null,
   "id": "bebfdb16-25ec-4570-88b0-c94f8b441beb",
   "metadata": {
    "tags": []
   },
   "outputs": [],
   "source": [
    "import klass"
   ]
  },
  {
   "cell_type": "code",
   "execution_count": null,
   "id": "cc376c97-daad-4312-b205-4355bf101ccb",
   "metadata": {
    "jupyter": {
     "outputs_hidden": true
    },
    "tags": []
   },
   "outputs": [],
   "source": [
    "klass.KlassClassification(\"1\").__dict__"
   ]
  },
  {
   "cell_type": "code",
   "execution_count": null,
   "id": "446b6d0e-6b69-4b48-893b-39cf6214cf62",
   "metadata": {
    "jupyter": {
     "outputs_hidden": true
    },
    "tags": []
   },
   "outputs": [],
   "source": [
    "klass.classifications()"
   ]
  },
  {
   "cell_type": "code",
   "execution_count": null,
   "id": "93fc0650-ed94-4f7b-a2ce-ee4d2236d576",
   "metadata": {},
   "outputs": [],
   "source": [
    "klassifikasjoner = klass.classifications(include_codelists=True,\n",
    "                                   changed_since=\"2022-01-01\")"
   ]
  },
  {
   "cell_type": "code",
   "execution_count": null,
   "id": "e87639ad-f5b9-49f4-b3a5-8f5ec0a54d0a",
   "metadata": {
    "tags": []
   },
   "outputs": [],
   "source": [
    "klass.classification_search(\"utdanning\")"
   ]
  },
  {
   "cell_type": "code",
   "execution_count": null,
   "id": "d5def1fc-9038-4cbe-ac9d-a40eadded01d",
   "metadata": {
    "tags": []
   },
   "outputs": [],
   "source": [
    "klass.classification_by_id(\"36\").keys()"
   ]
  },
  {
   "cell_type": "code",
   "execution_count": null,
   "id": "a38c487c-109a-48d6-9495-c421cfdc4072",
   "metadata": {
    "tags": []
   },
   "outputs": [],
   "source": [
    "klass.codes(classification_id=\"36\", from_date=\"2020-01-01\", to_date=\"2023-01-02\")"
   ]
  },
  {
   "cell_type": "code",
   "execution_count": null,
   "id": "449f870a-e295-41e2-8b11-ee167e911e6f",
   "metadata": {
    "tags": []
   },
   "outputs": [],
   "source": [
    "klass.codes_at(classification_id=\"36\", date=\"2020-01-01\")"
   ]
  },
  {
   "cell_type": "code",
   "execution_count": null,
   "id": "602f0dcc-770a-4e38-9bae-cabe54416740",
   "metadata": {
    "jupyter": {
     "outputs_hidden": true
    },
    "tags": []
   },
   "outputs": [],
   "source": [
    "klass.version_by_id(\"1954\")#[\"classificationVariants\"]"
   ]
  },
  {
   "cell_type": "code",
   "execution_count": null,
   "id": "60bb0f2c-7ba8-47d2-b51c-0f932c1c128b",
   "metadata": {
    "tags": []
   },
   "outputs": [],
   "source": [
    "# SELECT_LEVEL DOESNT WORK IN API?\n",
    "klass.variant(\"36\", \n",
    "              \"Studiepoeng ved fagskole\",\n",
    "              \"2023-01-01\",\n",
    "              #select_level=2,\n",
    "              return_type=\"json\"\n",
    "             )"
   ]
  },
  {
   "cell_type": "code",
   "execution_count": null,
   "id": "82a04a11-e0ce-4829-9e22-0d59c0d57277",
   "metadata": {
    "jupyter": {
     "outputs_hidden": true
    },
    "tags": []
   },
   "outputs": [],
   "source": [
    "klass.variant_at(\"36\", \"Studiepoeng ved fagskole\", date=\"2022-01-01\")"
   ]
  },
  {
   "cell_type": "code",
   "execution_count": null,
   "id": "af5574f4-a717-4463-9d81-06f2496ef600",
   "metadata": {
    "tags": []
   },
   "outputs": [],
   "source": [
    "klass.variants_by_id(\"1\")"
   ]
  },
  {
   "cell_type": "code",
   "execution_count": null,
   "id": "71d7fe8a-4664-44eb-a16b-54d8d747cf25",
   "metadata": {
    "tags": []
   },
   "outputs": [],
   "source": [
    "klass.corresponds(source_classification_id=104,\n",
    "                  target_classification_id=131,\n",
    "                  from_date=\"2023-01-01\",)"
   ]
  },
  {
   "cell_type": "code",
   "execution_count": null,
   "id": "32daf30f-0035-4cbf-9dad-5cbe85846d56",
   "metadata": {
    "tags": []
   },
   "outputs": [],
   "source": [
    "klass.corresponds_at(source_classification_id=104,\n",
    "                     target_classification_id=131,\n",
    "                     date=\"2023-01-01\",)"
   ]
  },
  {
   "cell_type": "code",
   "execution_count": null,
   "id": "14d17fbc-b766-47a6-a241-8ae267085a37",
   "metadata": {
    "tags": []
   },
   "outputs": [],
   "source": [
    "klass.correspondance_table_by_id(\"1014\")"
   ]
  },
  {
   "cell_type": "code",
   "execution_count": null,
   "id": "3f592794-920e-4a93-ba8d-ae8d3a2de057",
   "metadata": {
    "tags": []
   },
   "outputs": [],
   "source": [
    "klass.changes(\"36\", \"2020-01-01\", \"2023-01-01\")"
   ]
  },
  {
   "cell_type": "code",
   "execution_count": null,
   "id": "210270fa-0181-4cd8-af29-38616bbc30a3",
   "metadata": {
    "tags": []
   },
   "outputs": [],
   "source": [
    "klass.classificationfamilies(\"360\")"
   ]
  },
  {
   "cell_type": "code",
   "execution_count": null,
   "id": "873adae5-6d34-4eed-a613-0d660c88ec1f",
   "metadata": {
    "tags": []
   },
   "outputs": [],
   "source": [
    "klass.classificationfamilies_by_id(20)"
   ]
  },
  {
   "cell_type": "code",
   "execution_count": null,
   "id": "002ae05c-88ad-4811-aef3-fedb5021e426",
   "metadata": {},
   "outputs": [],
   "source": []
  }
 ],
 "metadata": {
  "language_info": {
   "codemirror_mode": {
    "name": "ipython"
   },
   "file_extension": ".py",
   "mimetype": "text/x-python",
   "name": "python",
   "nbconvert_exporter": "python"
  }
 },
 "nbformat": 4,
 "nbformat_minor": 5
}
