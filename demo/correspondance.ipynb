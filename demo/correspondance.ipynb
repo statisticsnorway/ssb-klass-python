{
 "cells": [
  {
   "cell_type": "code",
   "execution_count": null,
   "id": "5a1ddca7-1518-4b6c-8379-8937148838dd",
   "metadata": {
    "tags": []
   },
   "outputs": [],
   "source": [
    "from klass import KlassCorrespondance"
   ]
  },
  {
   "cell_type": "code",
   "execution_count": null,
   "id": "e68719de-60db-4940-9582-dd8689c386cd",
   "metadata": {
    "tags": []
   },
   "outputs": [],
   "source": [
    "fylke_komm = KlassCorrespondance(source_classification_id=\"104\", \n",
    "                    target_classification_id=\"131\", \n",
    "                    from_date=\"2023-01-01\")"
   ]
  },
  {
   "cell_type": "code",
   "execution_count": null,
   "id": "31ff5ae6-966b-4574-bfde-e52a7c8a3e7d",
   "metadata": {
    "tags": []
   },
   "outputs": [],
   "source": [
    "print(fylke_komm)"
   ]
  },
  {
   "cell_type": "code",
   "execution_count": null,
   "id": "146c0440-954c-4cbe-8905-378d11d655c2",
   "metadata": {},
   "outputs": [],
   "source": []
  }
 ],
 "metadata": {
  "language_info": {
   "codemirror_mode": {
    "name": "ipython"
   },
   "file_extension": ".py",
   "mimetype": "text/x-python",
   "name": "python",
   "nbconvert_exporter": "python"
  }
 },
 "nbformat": 4,
 "nbformat_minor": 5
}
