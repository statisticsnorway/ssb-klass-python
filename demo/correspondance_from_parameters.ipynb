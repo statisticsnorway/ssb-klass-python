{
 "cells": [
  {
   "cell_type": "code",
   "execution_count": null,
   "id": "37bca4b5-d19e-4dc1-94d5-b637748c97ce",
   "metadata": {
    "tags": []
   },
   "outputs": [],
   "source": [
    "import os\n",
    "os.chdir(\"../\")"
   ]
  },
  {
   "cell_type": "code",
   "execution_count": null,
   "id": "fc1be1cb-9cd9-4d0f-a247-c30d639e3850",
   "metadata": {
    "tags": []
   },
   "outputs": [],
   "source": [
    "import pandas as pd\n",
    "import json\n",
    "import requests\n",
    "import calendar\n",
    "from klass import KlassCorrespondance, corresponds, corresponds_at, get_codes"
   ]
  },
  {
   "cell_type": "code",
   "execution_count": null,
   "id": "f0573a36-43a9-4fea-b77a-75b3c3156e21",
   "metadata": {
    "tags": []
   },
   "outputs": [],
   "source": [
    "# Setter parametere\n",
    "aar4 = \"2022\"\n",
    "kvart = \"3\""
   ]
  },
  {
   "cell_type": "code",
   "execution_count": null,
   "id": "47a2d7b5-071d-4037-b3ce-0b024013ced2",
   "metadata": {
    "tags": []
   },
   "outputs": [],
   "source": [
    "def first_last_date_quarter(year_str: str, quarter_str: str):\n",
    "    year = int(year_str)\n",
    "    quarter = int(quarter_str)\n",
    "    from_month = str(quarter*3-2).zfill(2)\n",
    "    to_month = str(quarter*3).zfill(2)\n",
    "    last_day = str(calendar.monthrange(year, quarter*3)[1]).zfill(2)\n",
    "    start_date = f\"{year}-{from_month}-01\"\n",
    "    end_date = f\"{year}-{to_month}-{last_day}\"\n",
    "    return start_date, end_date"
   ]
  },
  {
   "cell_type": "code",
   "execution_count": null,
   "id": "af99d600-0ac9-4f30-8756-a2e3895754e9",
   "metadata": {
    "tags": []
   },
   "outputs": [],
   "source": [
    "dates = first_last_date_quarter(aar4, kvart)"
   ]
  },
  {
   "cell_type": "code",
   "execution_count": null,
   "id": "ce27544e-b6d4-428c-a911-f9ee09167c6d",
   "metadata": {
    "tags": []
   },
   "outputs": [],
   "source": [
    "klass_corresponds = corresponds(\n",
    "    source_classification_id=\"1\",\n",
    "    target_classification_id=\"103\",\n",
    "    from_date=dates[0],\n",
    "    to_date=dates[1],\n",
    ")\n",
    "\n",
    "klass_corresponds"
   ]
  },
  {
   "cell_type": "code",
   "execution_count": null,
   "id": "a8d345e3-5e61-4f5e-93e2-9bbcd235a23e",
   "metadata": {},
   "outputs": [],
   "source": []
  }
 ],
 "metadata": {
  "language_info": {
   "codemirror_mode": {
    "name": "ipython"
   },
   "file_extension": ".py",
   "mimetype": "text/x-python",
   "name": "python",
   "nbconvert_exporter": "python"
  }
 },
 "nbformat": 4,
 "nbformat_minor": 5
}
