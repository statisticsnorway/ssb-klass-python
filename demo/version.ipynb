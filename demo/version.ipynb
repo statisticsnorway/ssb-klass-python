{
 "cells": [
  {
   "cell_type": "code",
   "execution_count": null,
   "id": "8dbbf425-6286-44ac-bb89-b2079a5e2064",
   "metadata": {
    "tags": []
   },
   "outputs": [],
   "source": [
    "from klass import KlassVersion"
   ]
  },
  {
   "cell_type": "code",
   "execution_count": null,
   "id": "72c8ea61-5e75-42ab-bcdb-3475afca4bf8",
   "metadata": {},
   "outputs": [],
   "source": []
  },
  {
   "cell_type": "code",
   "execution_count": null,
   "id": "5536f810-d32d-4cca-9a21-a6a8d5fff838",
   "metadata": {
    "tags": []
   },
   "outputs": [],
   "source": [
    "nus2023 = KlassVersion(1954)\n",
    "nus2023"
   ]
  },
  {
   "cell_type": "code",
   "execution_count": null,
   "id": "1da6cd6e-7e38-4f0c-99d5-86f1740d267b",
   "metadata": {
    "tags": []
   },
   "outputs": [],
   "source": [
    "print(nus2023)"
   ]
  },
  {
   "cell_type": "code",
   "execution_count": null,
   "id": "308c6a86-c586-40f7-aec0-1691d927df6a",
   "metadata": {
    "tags": []
   },
   "outputs": [],
   "source": [
    "nus2023.variants_simple()"
   ]
  },
  {
   "cell_type": "code",
   "execution_count": null,
   "id": "06512dab-8ff4-4857-b962-0ecf53327b6d",
   "metadata": {
    "tags": []
   },
   "outputs": [],
   "source": [
    "studiepoeng = nus2023.get_variant(1959)\n",
    "print(studiepoeng)"
   ]
  },
  {
   "cell_type": "code",
   "execution_count": null,
   "id": "29765629-0fb7-4e95-a97c-ee0846c91e29",
   "metadata": {
    "tags": []
   },
   "outputs": [],
   "source": [
    "nus2023.correspondances_simple()"
   ]
  },
  {
   "cell_type": "code",
   "execution_count": null,
   "id": "9ad9bcd1-0f36-40cf-a1a5-085875674817",
   "metadata": {
    "tags": []
   },
   "outputs": [],
   "source": [
    "nus_isced = nus2023.get_correspondance(1112)\n",
    "print(nus_isced)"
   ]
  },
  {
   "cell_type": "code",
   "execution_count": null,
   "id": "237e9e24-8ed5-45bb-b8c3-f3c4e53c9654",
   "metadata": {
    "tags": []
   },
   "outputs": [],
   "source": [
    "nus_isced_map = nus_isced.to_dict(key=\"sourceCode\",\n",
    "                                  value=\"targetName\",\n",
    "                                  other=\"Unknown education programme\")"
   ]
  },
  {
   "cell_type": "code",
   "execution_count": null,
   "id": "8b3fdfac-0f16-420d-b920-52193f95b197",
   "metadata": {
    "tags": []
   },
   "outputs": [],
   "source": [
    "nus_isced_map[\"899903\"]"
   ]
  },
  {
   "cell_type": "code",
   "execution_count": null,
   "id": "dfeaa7f2-5fb9-476b-b2aa-f0868b7253f8",
   "metadata": {
    "tags": []
   },
   "outputs": [],
   "source": [
    "nus_isced_map[\"0\"]"
   ]
  },
  {
   "cell_type": "code",
   "execution_count": null,
   "id": "0fa4e7ec-7c46-43ed-b309-9d7e622b3eae",
   "metadata": {},
   "outputs": [],
   "source": []
  }
 ],
 "metadata": {
  "language_info": {
   "codemirror_mode": {
    "name": "ipython"
   },
   "file_extension": ".py",
   "mimetype": "text/x-python",
   "name": "python",
   "nbconvert_exporter": "python"
  }
 },
 "nbformat": 4,
 "nbformat_minor": 5
}
