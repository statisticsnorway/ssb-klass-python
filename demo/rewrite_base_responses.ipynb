{
 "cells": [
  {
   "cell_type": "code",
   "execution_count": null,
   "id": "71d75450-e17c-4aee-930d-d01363104a39",
   "metadata": {
    "tags": []
   },
   "outputs": [],
   "source": [
    "from klass import KlassConfig\n",
    "from klass.requests import klass_requests"
   ]
  },
  {
   "cell_type": "code",
   "execution_count": null,
   "id": "2633d7c2-6740-48a6-b368-f2ce42e02c04",
   "metadata": {
    "tags": []
   },
   "outputs": [],
   "source": [
    "#klass_requests.classifications()"
   ]
  },
  {
   "cell_type": "code",
   "execution_count": null,
   "id": "eff0c205-37cc-435c-bfe9-44b3968041da",
   "metadata": {},
   "outputs": [],
   "source": [
    "{\"_embedded\": {\"classifications\": [{\"name\": \"Standard for mocking tests\",\n",
    "    \"classificationType\": \"Klassifikasjon\",\n",
    "    \"lastModified\": \"2023-04-18T12:56:21.000+0000\",\n",
    "    \"_links\": {\"self\": {\"href\": \"https://data.ssb.no/api/klass/v1/classifications/0\"}}},\n",
    "   ]},\n",
    " \"_links\": {\"first\": {\"href\": \"https://data.ssb.no/api/klass/v1/classifications?includeCodelists=false&page=0&size=20\"},\n",
    "  \"self\": {\"href\": \"https://data.ssb.no/api/klass/v1/classifications?includeCodelists=false\"},\n",
    "  \"next\": {\"href\": \"https://data.ssb.no/api/klass/v1/classifications?includeCodelists=false&page=1&size=20\"},\n",
    "  \"last\": {\"href\": \"https://data.ssb.no/api/klass/v1/classifications?includeCodelists=false&page=7&size=20\"},\n",
    "  \"search\": {\"href\": \"https://data.ssb.no/api/klass/v1/classifications/search{?query,includeCodelists}\",\n",
    "   \"templated\": True}},\n",
    " \"page\": {\"size\": 20, \"totalElements\": 1, \"totalPages\": 1, \"number\": 0}}"
   ]
  },
  {
   "cell_type": "code",
   "execution_count": null,
   "id": "43eba18f-8ce0-47cc-b639-729ac4ff834e",
   "metadata": {
    "tags": []
   },
   "outputs": [],
   "source": [
    "#klass_requests.classification_search(\"1\")"
   ]
  },
  {
   "cell_type": "code",
   "execution_count": null,
   "id": "ba49c1b5-089e-40a5-8cea-35c26efb97b1",
   "metadata": {},
   "outputs": [],
   "source": [
    "{\"_embedded\": {\"searchResults\": [{\"name\": \"Standard for mocking tests\",\n",
    "    \"snippet\": \"<strong>1</strong> - Mann 2 - Kvinne\",\n",
    "    \"searchScore\": 1.1026883125305176,\n",
    "    \"_links\": {\"self\": {\"href\": \"https://data.ssb.no/api/klass/v1/classifications/0\"}}},]},\n",
    " \"_links\": {\"first\": {\"href\": \"https://data.ssb.no/api/klass/v1/classifications/search?query=1&includeCodelists=false&page=0&size=20\"},\n",
    "  \"self\": {\"href\": \"https://data.ssb.no/api/klass/v1/classifications/search?query=1&includeCodelists=false\"},\n",
    "  \"next\": {\"href\": \"https://data.ssb.no/api/klass/v1/classifications/search?query=1&includeCodelists=false&page=0&size=20\"},\n",
    "  \"last\": {\"href\": \"https://data.ssb.no/api/klass/v1/classifications/search?query=1&includeCodelists=false&page=0&size=20\"}},\n",
    " \"page\": {\"size\": 20, \"totalElements\": 1, \"totalPages\": 1, \"number\": 0}}"
   ]
  },
  {
   "cell_type": "code",
   "execution_count": null,
   "id": "01d60ffa-407d-4743-bfe0-66577820d27f",
   "metadata": {
    "tags": []
   },
   "outputs": [],
   "source": [
    "import json\n",
    "json.dumps(klass_requests.classification_by_id(\"1\"))"
   ]
  },
  {
   "cell_type": "code",
   "execution_count": null,
   "id": "a539864b-d05b-4e82-a461-37393c21eacc",
   "metadata": {},
   "outputs": [],
   "source": [
    "{\"name\": \"Standard for mocking tests\",\n",
    " \"classificationType\": \"Klassifikasjon\",\n",
    " \"lastModified\": \"2023-04-18T12:56:21.000+0000\",\n",
    " \"description\": \"\",\n",
    " \"primaryLanguage\": \"nb\",\n",
    " \"copyrighted\": false,\n",
    " \"includeShortName\": false,\n",
    " \"includeNotes\": True,\n",
    " \"contactPerson\": {\"name\": \"SSB Pythonistas\",\n",
    "  \"email\": \"pythonistas@ssb.no\",\n",
    "  \"phone\": \"99999999\"},\n",
    " \"owningSection\": \"320 - Seksjon for befolkningsstatistikk\",\n",
    " \"statisticalUnits\": [\"Mock\"],\n",
    " \"versions\": [{\"name\": \"Mock Version\",\n",
    "   \"validFrom\": \"2016-01-01\",\n",
    "   \"validTo\": \"2050-01-01\",\n",
    "   \"lastModified\": \"2023-04-18T12:43:39.000+0000\",\n",
    "   \"published\": [\"en\"],\n",
    "   \"_links\": {\"self\": {\"href\": \"https://data.ssb.no/api/klass/v1/versions/0\"}}},],\n",
    " \"_links\": {\"self\": {\"href\": \"https://data.ssb.no/api/klass/v1/classifications/0\"},\n",
    "  \"codes\": {\"href\": \"https://data.ssb.no/api/klass/v1/classifications/0/codes{?from=<yyyy-MM-dd>,to=<yyyy-MM-dd>,csvSeparator,level,selectCodes,presentationNamePattern}\",\n",
    "   \"templated\": True},\n",
    "  \"codesAt\": {\"href\": \"https://data.ssb.no/api/klass/v1/classifications/0/codesAt{?date=<yyyy-MM-dd>,csvSeparator,level,selectCodes,presentationNamePattern}\",\n",
    "   \"templated\": True},\n",
    "  \"variant\": {\"href\": \"https://data.ssb.no/api/klass/v1/classifications/0/variant{?variantName,from=<yyyy-MM-dd>,to=<yyyy-MM-dd>,csvSeparator,level,selectCodes,presentationNamePattern}\",\n",
    "   \"templated\": True},\n",
    "  \"variantAt\": {\"href\": \"https://data.ssb.no/api/klass/v1/classifications/0/variantAt{?variantName,date=<yyyy-MM-dd>,csvSeparator,level,selectCodes,presentationNamePattern}\",\n",
    "   \"templated\": True},\n",
    "  \"corresponds\": {\"href\": \"https://data.ssb.no/api/klass/v1/classifications/0/corresponds{?targetClassificationId,from=<yyyy-MM-dd>,to=<yyyy-MM-dd>,csvSeparator}\",\n",
    "   \"templated\": True},\n",
    "  \"correspondsAt\": {\"href\": \"https://data.ssb.no/api/klass/v1/classifications/0/correspondsAt{?targetClassificationId,date=<yyyy-MM-dd>,csvSeparator}\",\n",
    "   \"templated\": True},\n",
    "  \"changes\": {\"href\": \"https://data.ssb.no/api/klass/v1/classifications/0/changes{?from=<yyyy-MM-dd>,to=<yyyy-MM-dd>,csvSeparator}\",\n",
    "   \"templated\": True}}}"
   ]
  },
  {
   "cell_type": "code",
   "execution_count": null,
   "id": "413ecf32-890f-43ea-84fa-2b873ccc0915",
   "metadata": {
    "tags": []
   },
   "outputs": [],
   "source": [
    "get_json(url = KlassConfig().BASE_URL + \"classifications\")"
   ]
  },
  {
   "cell_type": "code",
   "execution_count": null,
   "id": "7be3148d-ff10-4e02-876f-930201a69c89",
   "metadata": {},
   "outputs": [],
   "source": []
  }
 ],
 "metadata": {
  "language_info": {
   "codemirror_mode": {
    "name": "ipython"
   },
   "file_extension": ".py",
   "mimetype": "text/x-python",
   "name": "python",
   "nbconvert_exporter": "python"
  }
 },
 "nbformat": 4,
 "nbformat_minor": 5
}
