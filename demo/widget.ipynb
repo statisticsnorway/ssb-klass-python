{
 "cells": [
  {
   "cell_type": "code",
   "execution_count": null,
   "id": "fc0fcc04-6be6-4370-8b02-125d91a37df0",
   "metadata": {
    "tags": []
   },
   "outputs": [],
   "source": [
    "import os\n",
    "os.chdir(\"../\")"
   ]
  },
  {
   "cell_type": "code",
   "execution_count": null,
   "id": "2bba55c3-5f56-4997-8aa0-1bd06955b7d4",
   "metadata": {
    "tags": []
   },
   "outputs": [],
   "source": [
    "from klass import search_classification\n",
    "search_classification()"
   ]
  },
  {
   "cell_type": "code",
   "execution_count": null,
   "id": "01ddd8a6-7779-4035-9905-2485a49292b0",
   "metadata": {
    "tags": []
   },
   "outputs": [],
   "source": [
    "from klass import KlassClassification\n",
    "standard_for_utdanningsgruppering_nus = KlassClassification(36, language=\"en\")\n",
    "standard_for_utdanningsgruppering_nus.get_codes(\"2021-01-01\").data"
   ]
  },
  {
   "cell_type": "code",
   "execution_count": null,
   "id": "ec3397db-d7f2-4d78-8a62-47b6d05f1baf",
   "metadata": {},
   "outputs": [],
   "source": []
  }
 ],
 "metadata": {
  "language_info": {
   "codemirror_mode": {
    "name": "ipython"
   },
   "file_extension": ".py",
   "mimetype": "text/x-python",
   "name": "python",
   "nbconvert_exporter": "python"
  }
 },
 "nbformat": 4,
 "nbformat_minor": 5
}
