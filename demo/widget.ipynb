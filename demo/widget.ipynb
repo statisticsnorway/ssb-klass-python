{
 "cells": [
  {
   "cell_type": "code",
   "execution_count": null,
   "id": "fc0fcc04-6be6-4370-8b02-125d91a37df0",
   "metadata": {
    "tags": []
   },
   "outputs": [],
   "source": [
    "import os\n",
    "os.chdir(\"../\")"
   ]
  },
  {
   "cell_type": "code",
   "execution_count": null,
   "id": "2bba55c3-5f56-4997-8aa0-1bd06955b7d4",
   "metadata": {
    "tags": []
   },
   "outputs": [],
   "source": [
    "from klass import search_classification\n",
    "search_classification()"
   ]
  },
  {
   "cell_type": "code",
   "execution_count": null,
   "id": "fe79b604-43a9-4af8-ac37-527aad390f65",
   "metadata": {
    "tags": []
   },
   "outputs": [],
   "source": [
    "from klass import KlassClassification\n",
    "standard_for_utdanningsgruppering_nus = KlassClassification(36)\n",
    "standard_for_utdanningsgruppering_nus.get_codes(\"2021-01-01\")"
   ]
  },
  {
   "cell_type": "code",
   "execution_count": null,
   "id": "ed5213d9-f78b-4fe8-93e5-23f79adeddf0",
   "metadata": {
    "tags": []
   },
   "outputs": [],
   "source": [
    "KlassClassification(36)[\"classification_id\"]\n",
    "KlassClassification(36)[\"name\"]"
   ]
  },
  {
   "cell_type": "code",
   "execution_count": null,
   "id": "cd9d0506-8690-4805-81a4-d2b65d8ce214",
   "metadata": {},
   "outputs": [],
   "source": []
  }
 ],
 "metadata": {
  "language_info": {
   "codemirror_mode": {
    "name": "ipython"
   },
   "file_extension": ".py",
   "mimetype": "text/x-python",
   "name": "python",
   "nbconvert_exporter": "python"
  }
 },
 "nbformat": 4,
 "nbformat_minor": 5
}
