{
 "cells": [
  {
   "cell_type": "code",
   "execution_count": null,
   "id": "b152dfcf-9c33-44f9-a567-77b20bb2b088",
   "metadata": {
    "tags": []
   },
   "outputs": [],
   "source": [
    "import klass\n",
    "\n",
    "klass.__version__"
   ]
  },
  {
   "cell_type": "code",
   "execution_count": null,
   "id": "c7550888-d5ad-455f-b863-aad81abd6605",
   "metadata": {
    "tags": []
   },
   "outputs": [],
   "source": [
    "from klass import search_classification\n",
    "\n",
    "search_classification()"
   ]
  },
  {
   "cell_type": "code",
   "execution_count": null,
   "id": "51cfbdbc-ca99-40fa-ac03-db2c17bc6610",
   "metadata": {
    "tags": []
   },
   "outputs": [],
   "source": [
    "# Paste code here, after pression \"copy code\" button\n",
    "from klass import KlassClassification"
   ]
  },
  {
   "cell_type": "code",
   "execution_count": null,
   "id": "018a30e0-17a9-4f33-a299-4424d6b03db7",
   "metadata": {
    "tags": []
   },
   "outputs": [],
   "source": [
    "nus = KlassClassification(36)"
   ]
  },
  {
   "cell_type": "code",
   "execution_count": null,
   "id": "aa0cb798-1f2f-4f56-842b-77fd46cebbd3",
   "metadata": {
    "tags": []
   },
   "outputs": [],
   "source": [
    "nus_codes = nus.get_codes(\"2023-01-01\")\n",
    "print(nus_codes)"
   ]
  },
  {
   "cell_type": "code",
   "execution_count": null,
   "id": "89731026-e46b-4c22-bcc5-21b7e9e4dc99",
   "metadata": {
    "tags": []
   },
   "outputs": [],
   "source": [
    "nus_codes.data.columns"
   ]
  },
  {
   "cell_type": "code",
   "execution_count": null,
   "id": "9fb83897-46be-4b88-9de2-1c77ae372c1d",
   "metadata": {
    "tags": []
   },
   "outputs": [],
   "source": [
    "# nus_codes.to_dict(\"code\", \"parentCode\")"
   ]
  },
  {
   "cell_type": "code",
   "execution_count": null,
   "id": "161c357e-84d8-478f-b98d-7b21d0c0c5e4",
   "metadata": {
    "tags": []
   },
   "outputs": [],
   "source": [
    "nus_codes.pivot_level()"
   ]
  },
  {
   "cell_type": "code",
   "execution_count": null,
   "id": "7d725c10-a6e0-4eb1-83d2-f16f948babbc",
   "metadata": {},
   "outputs": [],
   "source": []
  }
 ],
 "metadata": {
  "language_info": {
   "codemirror_mode": {
    "name": "ipython"
   },
   "file_extension": ".py",
   "mimetype": "text/x-python",
   "name": "python",
   "nbconvert_exporter": "python"
  }
 },
 "nbformat": 4,
 "nbformat_minor": 5
}
