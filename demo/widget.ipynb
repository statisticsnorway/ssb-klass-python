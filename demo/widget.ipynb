{
 "cells": [
  {
   "cell_type": "code",
   "execution_count": null,
   "id": "4d5cb94b-60bd-4615-9a72-40e0953cffe1",
   "metadata": {
    "tags": []
   },
   "outputs": [],
   "source": [
    "import klass\n",
    "klass.__version__"
   ]
  },
  {
   "cell_type": "code",
   "execution_count": null,
   "id": "c7550888-d5ad-455f-b863-aad81abd6605",
   "metadata": {
    "tags": []
   },
   "outputs": [],
   "source": [
    "from klass import search_classification\n",
    "search_classification()"
   ]
  },
  {
   "cell_type": "code",
   "execution_count": null,
   "id": "857c708f-8ea5-4973-b04f-0732aaba113c",
   "metadata": {
    "tags": []
   },
   "outputs": [],
   "source": [
    "from klass import KlassClassification\n",
    "standard_for_utdanningsgruppering_nus = KlassClassification(36)\n",
    "kodeliste = standard_for_utdanningsgruppering_nus.get_codes(select_level=3)"
   ]
  },
  {
   "cell_type": "code",
   "execution_count": null,
   "id": "8a033484-a1ef-4b65-a574-2d4705529d18",
   "metadata": {
    "tags": []
   },
   "outputs": [],
   "source": [
    "from klass import get_classification"
   ]
  },
  {
   "cell_type": "code",
   "execution_count": null,
   "id": "68b31c71-3460-4e92-932d-f41b7db99ebd",
   "metadata": {
    "tags": []
   },
   "outputs": [],
   "source": [
    "get_classification(36)"
   ]
  },
  {
   "cell_type": "code",
   "execution_count": null,
   "id": "8f60424b-af62-44ea-988e-f25d58ae8153",
   "metadata": {},
   "outputs": [],
   "source": [
    "standard_for_utdanningsgruppering_nus.get_changes(\"2020-01-01\", \"2023-01-01\")"
   ]
  },
  {
   "cell_type": "code",
   "execution_count": null,
   "id": "717188f2-50f2-4afd-8047-b319912105bd",
   "metadata": {},
   "outputs": [],
   "source": []
  }
 ],
 "metadata": {
  "language_info": {
   "codemirror_mode": {
    "name": "ipython"
   },
   "file_extension": ".py",
   "mimetype": "text/x-python",
   "name": "python",
   "nbconvert_exporter": "python"
  }
 },
 "nbformat": 4,
 "nbformat_minor": 5
}
