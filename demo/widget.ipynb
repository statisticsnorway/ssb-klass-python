{
 "cells": [
  {
   "cell_type": "code",
   "execution_count": null,
   "id": "fc0fcc04-6be6-4370-8b02-125d91a37df0",
   "metadata": {
    "tags": []
   },
   "outputs": [],
   "source": [
    "import os\n",
    "os.chdir(\"../\")"
   ]
  },
  {
   "cell_type": "code",
   "execution_count": null,
   "id": "2bba55c3-5f56-4997-8aa0-1bd06955b7d4",
   "metadata": {
    "tags": []
   },
   "outputs": [],
   "source": [
    "from klass import search_classification\n",
    "search_classification()"
   ]
  },
  {
   "cell_type": "code",
   "execution_count": null,
   "id": "fe79b604-43a9-4af8-ac37-527aad390f65",
   "metadata": {
    "tags": []
   },
   "outputs": [],
   "source": [
    "from klass import KlassClassification\n",
    "standard_for_utdanningsgruppering_nus = KlassClassification(36)\n",
    "standard_for_utdanningsgruppering_nus.get_codes(\"2021-01-01\")"
   ]
  },
  {
   "cell_type": "code",
   "execution_count": null,
   "id": "b0083159-8893-4cbf-a189-9c9420fcfe7c",
   "metadata": {
    "tags": []
   },
   "outputs": [],
   "source": [
    "from klass import KlassCorrespondance"
   ]
  },
  {
   "cell_type": "code",
   "execution_count": null,
   "id": "882f0fc2-c5b5-4600-a85b-4208a67d3309",
   "metadata": {
    "tags": []
   },
   "outputs": [],
   "source": [
    "fylke_kommune = KlassCorrespondance(source_classification_id=\"104\",\n",
    "                                    target_classification_id=\"131\",\n",
    "                                    from_date=\"2021-01-01\")"
   ]
  },
  {
   "cell_type": "code",
   "execution_count": null,
   "id": "6ced994b-d6c1-4f21-b0ab-9b2d0f49c175",
   "metadata": {
    "tags": []
   },
   "outputs": [],
   "source": [
    "fylke_kommune.data"
   ]
  },
  {
   "cell_type": "code",
   "execution_count": null,
   "id": "ed5213d9-f78b-4fe8-93e5-23f79adeddf0",
   "metadata": {},
   "outputs": [],
   "source": []
  }
 ],
 "metadata": {
  "language_info": {
   "codemirror_mode": {
    "name": "ipython"
   },
   "file_extension": ".py",
   "mimetype": "text/x-python",
   "name": "python",
   "nbconvert_exporter": "python"
  }
 },
 "nbformat": 4,
 "nbformat_minor": 5
}
