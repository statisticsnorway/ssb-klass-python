{
 "cells": [
  {
   "cell_type": "code",
   "execution_count": null,
   "id": "4d5cb94b-60bd-4615-9a72-40e0953cffe1",
   "metadata": {
    "tags": []
   },
   "outputs": [],
   "source": [
    "import klass\n",
    "klass.__version__"
   ]
  },
  {
   "cell_type": "code",
   "execution_count": null,
   "id": "c7550888-d5ad-455f-b863-aad81abd6605",
   "metadata": {
    "tags": []
   },
   "outputs": [],
   "source": [
    "from klass import search_classification\n",
    "search_classification()"
   ]
  },
  {
   "cell_type": "code",
   "execution_count": null,
   "id": "717188f2-50f2-4afd-8047-b319912105bd",
   "metadata": {},
   "outputs": [],
   "source": [
    "from klass import KlassClassification\n",
    "standard_for_utdanningsgruppering_nus = KlassClassification(36)\n",
    "standard_for_utdanningsgruppering_nus.get_codes().data"
   ]
  }
 ],
 "metadata": {
  "language_info": {
   "codemirror_mode": {
    "name": "ipython"
   },
   "file_extension": ".py",
   "mimetype": "text/x-python",
   "name": "python",
   "nbconvert_exporter": "python"
  }
 },
 "nbformat": 4,
 "nbformat_minor": 5
}
