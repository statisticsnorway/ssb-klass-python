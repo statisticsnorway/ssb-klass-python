{
 "cells": [
  {
   "cell_type": "code",
   "execution_count": null,
   "id": "c7550888-d5ad-455f-b863-aad81abd6605",
   "metadata": {
    "tags": []
   },
   "outputs": [],
   "source": [
    "from klass import search_classification\n",
    "search_classification()"
   ]
  },
  {
   "cell_type": "code",
   "execution_count": null,
   "id": "d318262c-ddea-44e8-8097-b8dbac628bbd",
   "metadata": {
    "tags": []
   },
   "outputs": [],
   "source": [
    "import klass"
   ]
  },
  {
   "cell_type": "code",
   "execution_count": null,
   "id": "15b0842e-8822-4ebf-ba62-d4b81cc68565",
   "metadata": {
    "tags": []
   },
   "outputs": [],
   "source": [
    "klass.KlassConfig().TESTING = True"
   ]
  },
  {
   "cell_type": "code",
   "execution_count": null,
   "id": "e6f471d8-f8e2-4b6c-a26e-4dc6952537e6",
   "metadata": {
    "tags": []
   },
   "outputs": [],
   "source": [
    "klass.KlassSearchClassifications(\"Fødeavdelinger\", include_codelists=True)"
   ]
  },
  {
   "cell_type": "code",
   "execution_count": null,
   "id": "8210203f-f43c-4232-90c2-a8a5f0676135",
   "metadata": {},
   "outputs": [],
   "source": []
  }
 ],
 "metadata": {
  "language_info": {
   "codemirror_mode": {
    "name": "ipython"
   },
   "file_extension": ".py",
   "mimetype": "text/x-python",
   "name": "python",
   "nbconvert_exporter": "python"
  }
 },
 "nbformat": 4,
 "nbformat_minor": 5
}
