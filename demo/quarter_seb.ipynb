{
 "cells": [
  {
   "cell_type": "code",
   "execution_count": null,
   "id": "daf943c5-0f94-4b6d-a838-c6a5a15f93ed",
   "metadata": {
    "tags": []
   },
   "outputs": [],
   "source": [
    "from datetime import datetime\n",
    "\n",
    "from klass import KlassCorrespondence"
   ]
  },
  {
   "cell_type": "code",
   "execution_count": null,
   "id": "28a1f078-2045-4e50-b0b4-6ab615aedb02",
   "metadata": {
    "tags": []
   },
   "outputs": [],
   "source": [
    "d = datetime.strptime(\"2020-01-01\", \"%Y-%m-%d\")"
   ]
  },
  {
   "cell_type": "code",
   "execution_count": null,
   "id": "c7cac885-9876-45ca-a8c1-223876ca2790",
   "metadata": {
    "tags": []
   },
   "outputs": [],
   "source": [
    "bydel = KlassCorrespondence(source_classification_id='1',\n",
    "                            target_classification_id='103',\n",
    "                            from_date=d,\n",
    "                            contain_quarter=3)"
   ]
  },
  {
   "cell_type": "code",
   "execution_count": null,
   "id": "9ffef1cc-48df-4793-bdba-1e447a559cb3",
   "metadata": {
    "tags": []
   },
   "outputs": [],
   "source": [
    "# Reset by parameter \"contain_quarter\"\n",
    "bydel.to_date"
   ]
  },
  {
   "cell_type": "code",
   "execution_count": null,
   "id": "13661253-56b4-40a4-b092-639f347f3916",
   "metadata": {
    "tags": []
   },
   "outputs": [],
   "source": [
    "bydel.data"
   ]
  },
  {
   "cell_type": "code",
   "execution_count": null,
   "id": "257a98ff-0236-45de-b6ea-3c047c41169f",
   "metadata": {
    "tags": []
   },
   "outputs": [],
   "source": [
    "bydel.data[\"validFrom\"].min()"
   ]
  },
  {
   "cell_type": "code",
   "execution_count": null,
   "id": "40ed5094-ad31-494a-b885-8829ea26d1f8",
   "metadata": {
    "tags": []
   },
   "outputs": [],
   "source": [
    "bydel.data[\"validTo\"].max()"
   ]
  },
  {
   "cell_type": "code",
   "execution_count": null,
   "id": "b3e0c618-5960-4b47-879f-1cb7f85234c0",
   "metadata": {},
   "outputs": [],
   "source": []
  }
 ],
 "metadata": {
  "language_info": {
   "codemirror_mode": {
    "name": "ipython"
   },
   "file_extension": ".py",
   "mimetype": "text/x-python",
   "name": "python",
   "nbconvert_exporter": "python"
  }
 },
 "nbformat": 4,
 "nbformat_minor": 5
}
