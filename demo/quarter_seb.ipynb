{
 "cells": [
  {
   "cell_type": "code",
   "execution_count": null,
   "id": "a5573975-b215-4993-a241-cac334f72d31",
   "metadata": {},
   "outputs": [],
   "source": [
    "from klass import KlassCorrespondance"
   ]
  },
  {
   "cell_type": "code",
   "execution_count": null,
   "id": "c7cac885-9876-45ca-a8c1-223876ca2790",
   "metadata": {
    "tags": []
   },
   "outputs": [],
   "source": [
    "bydel = KlassCorrespondance(source_classification_id = '1',\n",
    "                    target_classification_id = '103',\n",
    "                    from_date = '2022-01',\n",
    "                    contain_quarter = 3)"
   ]
  },
  {
   "cell_type": "code",
   "execution_count": null,
   "id": "9ffef1cc-48df-4793-bdba-1e447a559cb3",
   "metadata": {
    "tags": []
   },
   "outputs": [],
   "source": [
    "bydel.to_date"
   ]
  },
  {
   "cell_type": "code",
   "execution_count": null,
   "id": "13661253-56b4-40a4-b092-639f347f3916",
   "metadata": {
    "tags": []
   },
   "outputs": [],
   "source": [
    "bydel.data"
   ]
  },
  {
   "cell_type": "code",
   "execution_count": null,
   "id": "257a98ff-0236-45de-b6ea-3c047c41169f",
   "metadata": {},
   "outputs": [],
   "source": []
  }
 ],
 "metadata": {
  "language_info": {
   "codemirror_mode": {
    "name": "ipython"
   },
   "file_extension": ".py",
   "mimetype": "text/x-python",
   "name": "python",
   "nbconvert_exporter": "python"
  }
 },
 "nbformat": 4,
 "nbformat_minor": 5
}
