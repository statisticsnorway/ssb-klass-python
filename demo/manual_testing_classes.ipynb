{
 "cells": [
  {
   "cell_type": "code",
   "execution_count": null,
   "id": "c199fe3c-6bdb-49ea-a866-b309c3d1bccd",
   "metadata": {
    "tags": []
   },
   "outputs": [],
   "source": [
    "import os\n",
    "os.chdir(\"../\")\n",
    "import klass"
   ]
  },
  {
   "cell_type": "code",
   "execution_count": null,
   "id": "eec86a62-ef9c-43b9-9850-0feca460d6dc",
   "metadata": {
    "tags": []
   },
   "outputs": [],
   "source": [
    "nus2000 = klass.KlassClassification(\"36\", language=\"en\")"
   ]
  },
  {
   "cell_type": "code",
   "execution_count": null,
   "id": "b255ccd1-5598-444f-95aa-8f4c14a6079a",
   "metadata": {
    "tags": []
   },
   "outputs": [],
   "source": [
    "print(nus2000)"
   ]
  },
  {
   "cell_type": "code",
   "execution_count": null,
   "id": "b2a9603f-8d25-455e-9c8c-5b07a9b05378",
   "metadata": {
    "tags": []
   },
   "outputs": [],
   "source": [
    "nus2014 = nus2000.get_version(\"70\")"
   ]
  },
  {
   "cell_type": "code",
   "execution_count": null,
   "id": "02738122-3ae5-444c-8208-4fda7a66a218",
   "metadata": {
    "tags": []
   },
   "outputs": [],
   "source": [
    "print(nus2014)"
   ]
  },
  {
   "cell_type": "code",
   "execution_count": null,
   "id": "f775b8dc-d322-4532-9664-eb6ea473b520",
   "metadata": {
    "tags": []
   },
   "outputs": [],
   "source": [
    "nus2014.classification_items(select_level = \"Fagfelt\")"
   ]
  },
  {
   "cell_type": "code",
   "execution_count": null,
   "id": "cb32f4b3-cbcd-4aeb-874f-fed36bfa22b7",
   "metadata": {
    "tags": []
   },
   "outputs": [],
   "source": [
    "nus2014.levels"
   ]
  },
  {
   "cell_type": "code",
   "execution_count": null,
   "id": "780ec910-70e3-495c-bf25-82cb98168b7f",
   "metadata": {},
   "outputs": [],
   "source": []
  }
 ],
 "metadata": {
  "language_info": {
   "codemirror_mode": {
    "name": "ipython"
   },
   "file_extension": ".py",
   "mimetype": "text/x-python",
   "name": "python",
   "nbconvert_exporter": "python"
  }
 },
 "nbformat": 4,
 "nbformat_minor": 5
}
