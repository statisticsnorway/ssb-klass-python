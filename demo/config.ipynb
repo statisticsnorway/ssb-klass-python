{
 "cells": [
  {
   "cell_type": "code",
   "execution_count": null,
   "id": "22987e29-ea40-465f-8006-81fe6b26009a",
   "metadata": {
    "tags": []
   },
   "outputs": [],
   "source": [
    "import klass"
   ]
  },
  {
   "cell_type": "code",
   "execution_count": null,
   "id": "af47514a-a060-4195-9d19-1c94206893b6",
   "metadata": {
    "tags": []
   },
   "outputs": [],
   "source": [
    "[x for x in dir(klass.config) if not x.startswith(\"_\")]"
   ]
  },
  {
   "cell_type": "code",
   "execution_count": null,
   "id": "7528c978-1f36-4c67-955f-cf558cdd5b50",
   "metadata": {
    "tags": []
   },
   "outputs": [],
   "source": [
    "klass.config.TESTING"
   ]
  },
  {
   "cell_type": "code",
   "execution_count": null,
   "id": "a7f984ac-d53b-486d-8378-0b2839f96879",
   "metadata": {
    "tags": []
   },
   "outputs": [],
   "source": [
    "klass.config.TESTING = True"
   ]
  },
  {
   "cell_type": "code",
   "execution_count": null,
   "id": "febc3bc1-33b3-46c6-a2c1-5e57a3f281ff",
   "metadata": {
    "tags": []
   },
   "outputs": [],
   "source": [
    "klass.classification_by_id(36)"
   ]
  },
  {
   "cell_type": "code",
   "execution_count": null,
   "id": "692233c2-0b39-4ffe-8673-6ebd933a41e4",
   "metadata": {},
   "outputs": [],
   "source": []
  }
 ],
 "metadata": {
  "language_info": {
   "codemirror_mode": {
    "name": "ipython"
   },
   "file_extension": ".py",
   "mimetype": "text/x-python",
   "name": "python",
   "nbconvert_exporter": "python"
  }
 },
 "nbformat": 4,
 "nbformat_minor": 5
}
