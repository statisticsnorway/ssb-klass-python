{
 "cells": [
  {
   "cell_type": "code",
   "execution_count": null,
   "id": "185bcf08-af3b-41d8-8299-d12051b1a014",
   "metadata": {
    "tags": []
   },
   "outputs": [],
   "source": [
    "import os\n",
    "os.chdir(\"../\")"
   ]
  },
  {
   "cell_type": "code",
   "execution_count": null,
   "id": "c199fe3c-6bdb-49ea-a866-b309c3d1bccd",
   "metadata": {
    "tags": []
   },
   "outputs": [],
   "source": [
    "from klass import KlassSearchFamilies, KlassFamily"
   ]
  },
  {
   "cell_type": "code",
   "execution_count": null,
   "id": "938a76f5-4e7b-4d2b-9651-9c3bccbeedc7",
   "metadata": {
    "tags": []
   },
   "outputs": [],
   "source": [
    "search = KlassSearchFamilies(\"360\")"
   ]
  },
  {
   "cell_type": "code",
   "execution_count": null,
   "id": "f2b4c8d8-a2dc-4d87-a11e-5e85cf3ba7f7",
   "metadata": {
    "tags": []
   },
   "outputs": [],
   "source": [
    "search.__dict__"
   ]
  },
  {
   "cell_type": "code",
   "execution_count": null,
   "id": "788e6634-6c53-4c03-8ce0-127da6898304",
   "metadata": {
    "tags": []
   },
   "outputs": [],
   "source": [
    "print(search)"
   ]
  },
  {
   "cell_type": "code",
   "execution_count": null,
   "id": "c32c1097-f96a-4b15-8098-4530439d6612",
   "metadata": {
    "tags": []
   },
   "outputs": [],
   "source": [
    "utdanning = KlassFamily(\"20\")"
   ]
  },
  {
   "cell_type": "code",
   "execution_count": null,
   "id": "7bc95cb6-1a31-4aaa-8759-2d2c1e3b6a90",
   "metadata": {},
   "outputs": [],
   "source": [
    "type(utdanning)"
   ]
  },
  {
   "cell_type": "code",
   "execution_count": null,
   "id": "c67b94c5-ab20-4083-851b-9f1add56e565",
   "metadata": {
    "tags": []
   },
   "outputs": [],
   "source": [
    "utdanning.__dict__"
   ]
  },
  {
   "cell_type": "code",
   "execution_count": null,
   "id": "6a40b7cd-a10e-40ab-9d47-ed5cd282293c",
   "metadata": {},
   "outputs": [],
   "source": [
    "utdanning.classifications"
   ]
  },
  {
   "cell_type": "code",
   "execution_count": null,
   "id": "d74f8d9a-84be-40db-ba85-0cd25c297ae9",
   "metadata": {
    "tags": []
   },
   "outputs": [],
   "source": [
    "nus2000 = utdanning.get_classification(36)"
   ]
  },
  {
   "cell_type": "code",
   "execution_count": null,
   "id": "609d61b8-4a15-467e-b6c3-43374f22f945",
   "metadata": {},
   "outputs": [],
   "source": [
    "type(nus2000)"
   ]
  },
  {
   "cell_type": "code",
   "execution_count": null,
   "id": "9c62af80-a639-4ef2-9ab9-d3fa84c5f976",
   "metadata": {
    "tags": []
   },
   "outputs": [],
   "source": [
    "print(nus2000)"
   ]
  },
  {
   "cell_type": "code",
   "execution_count": null,
   "id": "916ccc57-b1b8-4b9d-acd4-eb62949b3635",
   "metadata": {
    "tags": []
   },
   "outputs": [],
   "source": [
    "nus2000.versions[:3]"
   ]
  },
  {
   "cell_type": "code",
   "execution_count": null,
   "id": "3f93725a-58e7-4b21-846e-b34a020f6fd1",
   "metadata": {
    "tags": []
   },
   "outputs": [],
   "source": [
    "nus2014 = nus2000.get_version(70)"
   ]
  },
  {
   "cell_type": "code",
   "execution_count": null,
   "id": "8f86af63-0fb4-49e0-9f87-d4a7aaa37edb",
   "metadata": {},
   "outputs": [],
   "source": [
    "type(nus2014)"
   ]
  },
  {
   "cell_type": "code",
   "execution_count": null,
   "id": "b73c3c5d-ab9c-4635-b93a-30a6f5549175",
   "metadata": {
    "tags": []
   },
   "outputs": [],
   "source": [
    "print(nus2014)"
   ]
  },
  {
   "cell_type": "code",
   "execution_count": null,
   "id": "9d2d9293-528f-4fbf-95d0-b8c4ddd7a73b",
   "metadata": {
    "tags": []
   },
   "outputs": [],
   "source": [
    "nus2014_codes_df = nus2014.get_classification_codes()\n",
    "nus2014_codes_df"
   ]
  },
  {
   "cell_type": "code",
   "execution_count": null,
   "id": "9207377a-b89a-4246-9d2b-5953185bd20e",
   "metadata": {},
   "outputs": [],
   "source": []
  }
 ],
 "metadata": {
  "language_info": {
   "codemirror_mode": {
    "name": "ipython"
   },
   "file_extension": ".py",
   "mimetype": "text/x-python",
   "name": "python",
   "nbconvert_exporter": "python"
  }
 },
 "nbformat": 4,
 "nbformat_minor": 5
}
