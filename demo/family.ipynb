{
 "cells": [
  {
   "cell_type": "code",
   "execution_count": null,
   "id": "c199fe3c-6bdb-49ea-a866-b309c3d1bccd",
   "metadata": {
    "tags": []
   },
   "outputs": [],
   "source": [
    "from klass import KlassSearchFamilies"
   ]
  },
  {
   "cell_type": "code",
   "execution_count": null,
   "id": "938a76f5-4e7b-4d2b-9651-9c3bccbeedc7",
   "metadata": {
    "tags": []
   },
   "outputs": [],
   "source": [
    "search = KlassSearchFamilies(\"360\")\n",
    "print(search)"
   ]
  },
  {
   "cell_type": "code",
   "execution_count": null,
   "id": "0802663d-ff6d-4af8-8f53-19e6f588e6e9",
   "metadata": {
    "tags": []
   },
   "outputs": [],
   "source": [
    "utdanning = search.get_family(20)\n",
    "print(utdanning)"
   ]
  },
  {
   "cell_type": "code",
   "execution_count": null,
   "id": "74e13d81-2f88-46b4-b1e6-f581a271d449",
   "metadata": {
    "tags": []
   },
   "outputs": [],
   "source": [
    "nus = utdanning.get_classification(36)\n",
    "print(nus)"
   ]
  },
  {
   "cell_type": "code",
   "execution_count": null,
   "id": "b3846714-35cf-4b4b-a596-d595e919080b",
   "metadata": {
    "tags": []
   },
   "outputs": [],
   "source": [
    "nus_codes = nus.get_codes(\"2023-01-01\")\n",
    "print(nus_codes)"
   ]
  },
  {
   "cell_type": "code",
   "execution_count": null,
   "id": "7cadbd45-5681-4da1-8c2b-1f019eab934c",
   "metadata": {
    "tags": []
   },
   "outputs": [],
   "source": [
    "nus_codes.data"
   ]
  },
  {
   "cell_type": "code",
   "execution_count": null,
   "id": "f263865f-ea91-477e-a2da-13d9e661ff2a",
   "metadata": {},
   "outputs": [],
   "source": []
  }
 ],
 "metadata": {
  "language_info": {
   "codemirror_mode": {
    "name": "ipython"
   },
   "file_extension": ".py",
   "mimetype": "text/x-python",
   "name": "python",
   "nbconvert_exporter": "python"
  }
 },
 "nbformat": 4,
 "nbformat_minor": 5
}
