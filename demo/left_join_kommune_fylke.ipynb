{
 "cells": [
  {
   "cell_type": "code",
   "execution_count": null,
   "id": "6d630de3-d8a2-4264-ab9e-8e6cae8e348a",
   "metadata": {
    "tags": []
   },
   "outputs": [],
   "source": [
    "import os\n",
    "os.chdir(\"../\")\n",
    "import pandas as pd"
   ]
  },
  {
   "cell_type": "code",
   "execution_count": null,
   "id": "af85ed11-f44b-44e7-ab50-f367910db686",
   "metadata": {
    "tags": []
   },
   "outputs": [],
   "source": [
    "import klass\n",
    "klass.KlassConfig().TESTING = True"
   ]
  },
  {
   "cell_type": "code",
   "execution_count": null,
   "id": "3f7b804f-a609-4265-87bb-63f0b1dd543e",
   "metadata": {
    "tags": []
   },
   "outputs": [],
   "source": [
    "from klass import KlassClassification"
   ]
  },
  {
   "cell_type": "code",
   "execution_count": null,
   "id": "a0080ef7-8cbe-4ecb-998d-08b3e0344386",
   "metadata": {},
   "outputs": [],
   "source": []
  },
  {
   "cell_type": "code",
   "execution_count": null,
   "id": "eec86a62-ef9c-43b9-9850-0feca460d6dc",
   "metadata": {
    "tags": []
   },
   "outputs": [],
   "source": [
    "kommune_klass = KlassClassification(\"131\")\n",
    "fylke_klass = KlassClassification(\"104\")"
   ]
  },
  {
   "cell_type": "code",
   "execution_count": null,
   "id": "a3757644-c5df-4e4c-8652-0a426c5c79f8",
   "metadata": {
    "tags": []
   },
   "outputs": [],
   "source": [
    "kommune = kommune_klass.get_codes(from_date=\"2022-01-01\")\n",
    "fylke = fylke_klass.get_codes(from_date=\"2022-01-01\")"
   ]
  },
  {
   "cell_type": "code",
   "execution_count": null,
   "id": "7640321b-c95b-4a3e-b63c-a2830eae2779",
   "metadata": {
    "tags": []
   },
   "outputs": [],
   "source": [
    "kom = kommune.data\n",
    "fyl = fylke.data"
   ]
  },
  {
   "cell_type": "code",
   "execution_count": null,
   "id": "0dfc94c3-11b4-4835-839d-3c4f084571a3",
   "metadata": {
    "tags": []
   },
   "outputs": [],
   "source": [
    "kom = kom[['code', 'name']]\n",
    "fyl = fyl[['code', 'name']]"
   ]
  },
  {
   "cell_type": "code",
   "execution_count": null,
   "id": "7ba4885a-7641-4dbd-a877-8c267513b5f3",
   "metadata": {
    "tags": []
   },
   "outputs": [],
   "source": [
    "kom = kom.rename(columns={'code': 'kommunenummer', 'name': 'kommune'})\n",
    "fyl = fyl.rename(columns={'code': 'fylkesnummer', 'name': 'fylke'})"
   ]
  },
  {
   "cell_type": "code",
   "execution_count": null,
   "id": "ab87a885-133a-417d-8bde-1a1a3511b0ec",
   "metadata": {
    "tags": []
   },
   "outputs": [],
   "source": [
    "kom['fylkesnummer'] = kom['kommunenummer'].str[:2]"
   ]
  },
  {
   "cell_type": "code",
   "execution_count": null,
   "id": "bc6c21c6-b636-4071-8a14-84f122ff3993",
   "metadata": {
    "tags": []
   },
   "outputs": [],
   "source": [
    "komfyl = pd.merge(kom, fyl, how='left', on='fylkesnummer')"
   ]
  },
  {
   "cell_type": "code",
   "execution_count": null,
   "id": "dcb18475-cd4e-4356-a924-cdc4c750d49c",
   "metadata": {
    "tags": []
   },
   "outputs": [],
   "source": [
    "komfyl"
   ]
  },
  {
   "cell_type": "code",
   "execution_count": null,
   "id": "9184980b-5674-4753-b4b5-f60de6bac124",
   "metadata": {},
   "outputs": [],
   "source": []
  }
 ],
 "metadata": {
  "language_info": {
   "codemirror_mode": {
    "name": "ipython"
   },
   "file_extension": ".py",
   "mimetype": "text/x-python",
   "name": "python",
   "nbconvert_exporter": "python"
  }
 },
 "nbformat": 4,
 "nbformat_minor": 5
}
