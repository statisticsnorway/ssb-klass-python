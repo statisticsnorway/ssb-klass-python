{
 "cells": [
  {
   "cell_type": "code",
   "execution_count": null,
   "id": "37bca4b5-d19e-4dc1-94d5-b637748c97ce",
   "metadata": {
    "tags": []
   },
   "outputs": [],
   "source": [
    "import os\n",
    "os.chdir(\"../\")"
   ]
  },
  {
   "cell_type": "code",
   "execution_count": null,
   "id": "475f3ea9-f8c6-4961-976d-d152f0cb5ee2",
   "metadata": {
    "tags": []
   },
   "outputs": [],
   "source": [
    "import pandas as pd"
   ]
  },
  {
   "cell_type": "code",
   "execution_count": null,
   "id": "fc1be1cb-9cd9-4d0f-a247-c30d639e3850",
   "metadata": {
    "tags": []
   },
   "outputs": [],
   "source": [
    "from klass import KlassClassification"
   ]
  },
  {
   "cell_type": "code",
   "execution_count": null,
   "id": "eec86a62-ef9c-43b9-9850-0feca460d6dc",
   "metadata": {
    "tags": []
   },
   "outputs": [],
   "source": [
    "kommune_klass = KlassClassification(\"131\")\n",
    "fylke_klass = KlassClassification(\"104\")"
   ]
  },
  {
   "cell_type": "code",
   "execution_count": null,
   "id": "a3757644-c5df-4e4c-8652-0a426c5c79f8",
   "metadata": {
    "tags": []
   },
   "outputs": [],
   "source": [
    "kommune = kommune_klass.get_codes(from_date=\"2022-01-01\")\n",
    "fylke = fylke_klass.get_codes(from_date=\"2022-01-01\")"
   ]
  },
  {
   "cell_type": "code",
   "execution_count": null,
   "id": "7640321b-c95b-4a3e-b63c-a2830eae2779",
   "metadata": {
    "tags": []
   },
   "outputs": [],
   "source": [
    "kom = kommune.data\n",
    "fyl = fylke.data"
   ]
  },
  {
   "cell_type": "code",
   "execution_count": null,
   "id": "0dfc94c3-11b4-4835-839d-3c4f084571a3",
   "metadata": {
    "tags": []
   },
   "outputs": [],
   "source": [
    "kom = kom[['code', 'name']]\n",
    "fyl = fyl[['code', 'name']]"
   ]
  },
  {
   "cell_type": "code",
   "execution_count": null,
   "id": "7ba4885a-7641-4dbd-a877-8c267513b5f3",
   "metadata": {
    "tags": []
   },
   "outputs": [],
   "source": [
    "kom = kom.rename(columns={'code': 'kommunenummer', 'name': 'kommune'})\n",
    "fyl = fyl.rename(columns={'code': 'fylkesnummer', 'name': 'fylke'})"
   ]
  },
  {
   "cell_type": "code",
   "execution_count": null,
   "id": "ab87a885-133a-417d-8bde-1a1a3511b0ec",
   "metadata": {
    "tags": []
   },
   "outputs": [],
   "source": [
    "kom['fylkesnummer'] = kom['kommunenummer'].str[:2]"
   ]
  },
  {
   "cell_type": "code",
   "execution_count": null,
   "id": "d2ad26dd-95d6-4145-8513-889449944424",
   "metadata": {
    "tags": []
   },
   "outputs": [],
   "source": [
    "pd.merge(kom, fyl, how='left', on='fylkesnummer')"
   ]
  },
  {
   "cell_type": "code",
   "execution_count": null,
   "id": "dcb18475-cd4e-4356-a924-cdc4c750d49c",
   "metadata": {},
   "outputs": [],
   "source": []
  }
 ],
 "metadata": {
  "language_info": {
   "codemirror_mode": {
    "name": "ipython"
   },
   "file_extension": ".py",
   "mimetype": "text/x-python",
   "name": "python",
   "nbconvert_exporter": "python"
  }
 },
 "nbformat": 4,
 "nbformat_minor": 5
}
