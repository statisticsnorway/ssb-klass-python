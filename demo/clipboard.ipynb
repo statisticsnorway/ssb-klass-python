{
 "cells": [
  {
   "cell_type": "code",
   "execution_count": null,
   "id": "b7178397-13e1-43f0-8f97-a9e33298f419",
   "metadata": {
    "tags": []
   },
   "outputs": [],
   "source": [
    "import pyperclip\n",
    "pyperclip.copy(\"Testing\")"
   ]
  },
  {
   "cell_type": "code",
   "execution_count": null,
   "id": "cbb9cbb9-b650-4e3b-a335-61a4b409ad8a",
   "metadata": {
    "tags": []
   },
   "outputs": [],
   "source": [
    "from IPython.display import HTML\n",
    "\n",
    "text = \"KlassClassification(36)\"\n",
    "HTML(f\"<button onclick=navigator.clipboard.writeText('{text}')>Copy code</button>\")"
   ]
  },
  {
   "cell_type": "code",
   "execution_count": null,
   "id": "88303df3-dae9-4ae7-8c8f-714291989fa4",
   "metadata": {},
   "outputs": [],
   "source": [
    "KlassClassification(36)"
   ]
  }
 ],
 "metadata": {
  "language_info": {
   "codemirror_mode": {
    "name": "ipython"
   },
   "file_extension": ".py",
   "mimetype": "text/x-python",
   "name": "python",
   "nbconvert_exporter": "python"
  }
 },
 "nbformat": 4,
 "nbformat_minor": 5
}
