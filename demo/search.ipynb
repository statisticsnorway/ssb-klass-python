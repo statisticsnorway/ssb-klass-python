{
 "cells": [
  {
   "cell_type": "code",
   "execution_count": null,
   "id": "c199fe3c-6bdb-49ea-a866-b309c3d1bccd",
   "metadata": {
    "tags": []
   },
   "outputs": [],
   "source": [
    "from klass import KlassSearchClassifications, KlassSearchFamilies"
   ]
  },
  {
   "cell_type": "code",
   "execution_count": null,
   "id": "938a76f5-4e7b-4d2b-9651-9c3bccbeedc7",
   "metadata": {
    "tags": []
   },
   "outputs": [],
   "source": [
    "search = KlassSearchClassifications(\"land\", no_dupes=True)"
   ]
  },
  {
   "cell_type": "code",
   "execution_count": null,
   "id": "9b953d25-0704-4c02-b144-e36c5667c4f1",
   "metadata": {
    "tags": []
   },
   "outputs": [],
   "source": [
    "print(search)"
   ]
  },
  {
   "cell_type": "code",
   "execution_count": null,
   "id": "58c36aed-8bf5-4927-ae8a-3715c5346cda",
   "metadata": {
    "tags": []
   },
   "outputs": [],
   "source": [
    "search"
   ]
  },
  {
   "cell_type": "code",
   "execution_count": null,
   "id": "8bfa1340-e45e-49ff-9224-17dd786c1eb4",
   "metadata": {
    "tags": []
   },
   "outputs": [],
   "source": [
    "ours = KlassSearchFamilies(360)"
   ]
  },
  {
   "cell_type": "code",
   "execution_count": null,
   "id": "4ece9e1d-e7f2-471e-b6a5-3c16795c863a",
   "metadata": {
    "tags": []
   },
   "outputs": [],
   "source": [
    "print(ours)"
   ]
  },
  {
   "cell_type": "code",
   "execution_count": null,
   "id": "ace5f076-1c6e-4ba7-9736-9bd99c9d6e84",
   "metadata": {
    "tags": []
   },
   "outputs": [],
   "source": [
    "ours"
   ]
  },
  {
   "cell_type": "code",
   "execution_count": null,
   "id": "12810f58-69bb-4825-ba8f-c0c0c49b4e63",
   "metadata": {
    "tags": []
   },
   "outputs": [],
   "source": [
    "utdanning = ours.get_family(20)"
   ]
  },
  {
   "cell_type": "code",
   "execution_count": null,
   "id": "9080ad9b-3220-4e62-ae69-9c079a8b4810",
   "metadata": {
    "tags": []
   },
   "outputs": [],
   "source": [
    "print(utdanning)"
   ]
  },
  {
   "cell_type": "code",
   "execution_count": null,
   "id": "1c802069-f8cc-47d9-9a3e-64b8a300332b",
   "metadata": {
    "tags": []
   },
   "outputs": [],
   "source": [
    "nus = utdanning.get_classification(66)"
   ]
  },
  {
   "cell_type": "code",
   "execution_count": null,
   "id": "a43e3313-5ef1-44ad-aa80-17f45df9a14d",
   "metadata": {
    "tags": []
   },
   "outputs": [],
   "source": [
    "print(nus)"
   ]
  },
  {
   "cell_type": "code",
   "execution_count": null,
   "id": "ae19a9a9-78ec-49d7-bf88-e1488d46d494",
   "metadata": {},
   "outputs": [],
   "source": []
  }
 ],
 "metadata": {
  "language_info": {
   "codemirror_mode": {
    "name": "ipython"
   },
   "file_extension": ".py",
   "mimetype": "text/x-python",
   "name": "python",
   "nbconvert_exporter": "python"
  }
 },
 "nbformat": 4,
 "nbformat_minor": 5
}
