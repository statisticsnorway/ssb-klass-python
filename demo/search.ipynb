{
 "cells": [
  {
   "cell_type": "code",
   "execution_count": null,
   "id": "185bcf08-af3b-41d8-8299-d12051b1a014",
   "metadata": {
    "tags": []
   },
   "outputs": [],
   "source": [
    "import os\n",
    "os.chdir(\"../\")"
   ]
  },
  {
   "cell_type": "code",
   "execution_count": null,
   "id": "c199fe3c-6bdb-49ea-a866-b309c3d1bccd",
   "metadata": {
    "tags": []
   },
   "outputs": [],
   "source": [
    "from klass import KlassSearchClassifications"
   ]
  },
  {
   "cell_type": "code",
   "execution_count": null,
   "id": "938a76f5-4e7b-4d2b-9651-9c3bccbeedc7",
   "metadata": {
    "tags": []
   },
   "outputs": [],
   "source": [
    "search = KlassSearchClassifications(\"land\")"
   ]
  },
  {
   "cell_type": "code",
   "execution_count": null,
   "id": "9207377a-b89a-4246-9d2b-5953185bd20e",
   "metadata": {
    "tags": []
   },
   "outputs": [],
   "source": [
    "search.classifications"
   ]
  },
  {
   "cell_type": "code",
   "execution_count": null,
   "id": "dedf206e-1d6c-4915-b723-1edac2e59a72",
   "metadata": {
    "tags": []
   },
   "outputs": [],
   "source": [
    "kommune_id = search.classifications[0][\"classification_id\"]"
   ]
  },
  {
   "cell_type": "code",
   "execution_count": null,
   "id": "53395d75-64db-440d-9af5-b7fe80676c95",
   "metadata": {
    "tags": []
   },
   "outputs": [],
   "source": [
    "kommune = search.get_classification(kommune_id)\n",
    "print(kommune)"
   ]
  },
  {
   "cell_type": "code",
   "execution_count": null,
   "id": "8bfa1340-e45e-49ff-9224-17dd786c1eb4",
   "metadata": {},
   "outputs": [],
   "source": []
  }
 ],
 "metadata": {
  "language_info": {
   "codemirror_mode": {
    "name": "ipython"
   },
   "file_extension": ".py",
   "mimetype": "text/x-python",
   "name": "python",
   "nbconvert_exporter": "python"
  }
 },
 "nbformat": 4,
 "nbformat_minor": 5
}
