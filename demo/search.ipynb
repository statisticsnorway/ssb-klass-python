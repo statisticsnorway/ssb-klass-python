{
 "cells": [
  {
   "cell_type": "code",
   "execution_count": null,
   "id": "c199fe3c-6bdb-49ea-a866-b309c3d1bccd",
   "metadata": {
    "tags": []
   },
   "outputs": [],
   "source": [
    "from klass import KlassSearchClassifications, KlassSearchFamilies"
   ]
  },
  {
   "cell_type": "code",
   "execution_count": null,
   "id": "69b64e0a-9ae6-42f3-9389-4cdb0f30c918",
   "metadata": {
    "tags": []
   },
   "outputs": [],
   "source": [
    "search = KlassSearchClassifications(\"land\", no_dupes=True)\n",
    "print(search)"
   ]
  },
  {
   "cell_type": "code",
   "execution_count": null,
   "id": "2a925b14-733c-4cbb-b0d6-c5b310dd95e6",
   "metadata": {
    "tags": []
   },
   "outputs": [],
   "source": [
    "print(search.get_classification(106))"
   ]
  },
  {
   "cell_type": "code",
   "execution_count": null,
   "id": "4656bd9b-27b1-4b23-aebf-3e4e05711935",
   "metadata": {
    "tags": []
   },
   "outputs": [],
   "source": [
    "ours = KlassSearchFamilies(360)\n",
    "print(ours)"
   ]
  },
  {
   "cell_type": "code",
   "execution_count": null,
   "id": "ace5f076-1c6e-4ba7-9736-9bd99c9d6e84",
   "metadata": {
    "tags": []
   },
   "outputs": [],
   "source": [
    "ours.families"
   ]
  },
  {
   "cell_type": "code",
   "execution_count": null,
   "id": "12810f58-69bb-4825-ba8f-c0c0c49b4e63",
   "metadata": {
    "tags": []
   },
   "outputs": [],
   "source": [
    "utdanning = ours.get_family(20)"
   ]
  },
  {
   "cell_type": "code",
   "execution_count": null,
   "id": "9080ad9b-3220-4e62-ae69-9c079a8b4810",
   "metadata": {
    "tags": []
   },
   "outputs": [],
   "source": [
    "print(utdanning)"
   ]
  },
  {
   "cell_type": "code",
   "execution_count": null,
   "id": "1c802069-f8cc-47d9-9a3e-64b8a300332b",
   "metadata": {
    "tags": []
   },
   "outputs": [],
   "source": [
    "isced = utdanning.get_classification(66)"
   ]
  },
  {
   "cell_type": "code",
   "execution_count": null,
   "id": "a43e3313-5ef1-44ad-aa80-17f45df9a14d",
   "metadata": {
    "tags": []
   },
   "outputs": [],
   "source": [
    "print(isced)"
   ]
  }
 ],
 "metadata": {
  "language_info": {
   "codemirror_mode": {
    "name": "ipython"
   },
   "file_extension": ".py",
   "mimetype": "text/x-python",
   "name": "python",
   "nbconvert_exporter": "python"
  }
 },
 "nbformat": 4,
 "nbformat_minor": 5
}
