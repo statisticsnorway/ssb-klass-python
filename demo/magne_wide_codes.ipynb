{
 "cells": [
  {
   "cell_type": "code",
   "execution_count": null,
   "id": "6a92d0d1-bdae-4595-99b2-59b56847e481",
   "metadata": {
    "tags": []
   },
   "outputs": [],
   "source": [
    "from klass import KlassClassification"
   ]
  },
  {
   "cell_type": "code",
   "execution_count": null,
   "id": "bef3b502-0fe1-4279-94aa-35fd07e93bae",
   "metadata": {
    "tags": []
   },
   "outputs": [],
   "source": [
    "helse = KlassClassification(603).get_codes()"
   ]
  },
  {
   "cell_type": "code",
   "execution_count": null,
   "id": "e9503950-3782-440b-bb95-ada247b3d7d7",
   "metadata": {
    "tags": []
   },
   "outputs": [],
   "source": [
    "helse.data"
   ]
  },
  {
   "cell_type": "code",
   "execution_count": null,
   "id": "ad0fc487-489e-4ec7-832b-7c739c0c3d18",
   "metadata": {
    "tags": []
   },
   "outputs": [],
   "source": [
    "helse.wide_data(keep=[\"name\", \"parentCode\", \"presentation\"])"
   ]
  },
  {
   "cell_type": "code",
   "execution_count": null,
   "id": "1503fcf5-f1e3-4e4a-b1b0-f07c4106fa3a",
   "metadata": {},
   "outputs": [],
   "source": []
  }
 ],
 "metadata": {
  "language_info": {
   "codemirror_mode": {
    "name": "ipython"
   },
   "file_extension": ".py",
   "mimetype": "text/x-python",
   "name": "python",
   "nbconvert_exporter": "python"
  }
 },
 "nbformat": 4,
 "nbformat_minor": 5
}
