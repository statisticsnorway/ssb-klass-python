{
 "cells": [
  {
   "cell_type": "code",
   "execution_count": null,
   "id": "382b1200-d711-4152-b297-6be87d4c82ed",
   "metadata": {
    "tags": []
   },
   "outputs": [],
   "source": [
    "from klass.requests.klass_requests import get_json\n",
    "get_json(\"https://data.ssb.no/api/klass/v1/classifications/608\", params={})"
   ]
  },
  {
   "cell_type": "code",
   "execution_count": null,
   "id": "fc1be1cb-9cd9-4d0f-a247-c30d639e3850",
   "metadata": {
    "tags": []
   },
   "outputs": [],
   "source": [
    "from klass import KlassClassification"
   ]
  },
  {
   "cell_type": "code",
   "execution_count": null,
   "id": "d1fa783d-adce-4693-b37b-720a8fa490f3",
   "metadata": {
    "tags": []
   },
   "outputs": [],
   "source": [
    "fodestuer = KlassClassification(608)"
   ]
  },
  {
   "cell_type": "code",
   "execution_count": null,
   "id": "1fab3d03-0462-4481-a323-6c86ea505630",
   "metadata": {
    "tags": []
   },
   "outputs": [],
   "source": [
    "print(fodestuer)"
   ]
  },
  {
   "cell_type": "code",
   "execution_count": null,
   "id": "eec86a62-ef9c-43b9-9850-0feca460d6dc",
   "metadata": {
    "tags": []
   },
   "outputs": [],
   "source": [
    "landkoder = KlassClassification(100)"
   ]
  },
  {
   "cell_type": "code",
   "execution_count": null,
   "id": "c477a843-f5fd-44d2-a045-b627247a1cf4",
   "metadata": {
    "tags": []
   },
   "outputs": [],
   "source": [
    "print(landkoder)"
   ]
  },
  {
   "cell_type": "code",
   "execution_count": null,
   "id": "c8690bcd-dde9-47f7-8a7b-197f326849c4",
   "metadata": {
    "tags": []
   },
   "outputs": [],
   "source": [
    "#landkoder.versions"
   ]
  },
  {
   "cell_type": "code",
   "execution_count": null,
   "id": "634f2691-1006-458f-b4af-c8a07d314c9f",
   "metadata": {
    "tags": []
   },
   "outputs": [],
   "source": [
    "koder = landkoder.get_codes(\"2020-11-01\")"
   ]
  },
  {
   "cell_type": "code",
   "execution_count": null,
   "id": "91f5be17-94dc-4084-93d3-78b8d7e78403",
   "metadata": {
    "tags": []
   },
   "outputs": [],
   "source": [
    "koder.data"
   ]
  }
 ],
 "metadata": {
  "language_info": {
   "codemirror_mode": {
    "name": "ipython"
   },
   "file_extension": ".py",
   "mimetype": "text/x-python",
   "name": "python",
   "nbconvert_exporter": "python"
  }
 },
 "nbformat": 4,
 "nbformat_minor": 5
}
