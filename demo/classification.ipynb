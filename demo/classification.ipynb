{
 "cells": [
  {
   "cell_type": "code",
   "execution_count": null,
   "id": "fc1be1cb-9cd9-4d0f-a247-c30d639e3850",
   "metadata": {
    "tags": []
   },
   "outputs": [],
   "source": [
    "from klass import KlassClassification"
   ]
  },
  {
   "cell_type": "code",
   "execution_count": null,
   "id": "eec86a62-ef9c-43b9-9850-0feca460d6dc",
   "metadata": {
    "tags": []
   },
   "outputs": [],
   "source": [
    "landkoder = KlassClassification(100)"
   ]
  },
  {
   "cell_type": "code",
   "execution_count": null,
   "id": "c477a843-f5fd-44d2-a045-b627247a1cf4",
   "metadata": {
    "tags": []
   },
   "outputs": [],
   "source": [
    "print(landkoder)"
   ]
  },
  {
   "cell_type": "code",
   "execution_count": null,
   "id": "c8690bcd-dde9-47f7-8a7b-197f326849c4",
   "metadata": {
    "tags": []
   },
   "outputs": [],
   "source": [
    "#landkoder.versions"
   ]
  },
  {
   "cell_type": "code",
   "execution_count": null,
   "id": "634f2691-1006-458f-b4af-c8a07d314c9f",
   "metadata": {
    "tags": []
   },
   "outputs": [],
   "source": [
    "koder = landkoder.get_codes(\"2020-11-01\")"
   ]
  },
  {
   "cell_type": "code",
   "execution_count": null,
   "id": "91f5be17-94dc-4084-93d3-78b8d7e78403",
   "metadata": {
    "tags": []
   },
   "outputs": [],
   "source": [
    "koder.data"
   ]
  }
 ],
 "metadata": {
  "language_info": {
   "codemirror_mode": {
    "name": "ipython"
   },
   "file_extension": ".py",
   "mimetype": "text/x-python",
   "name": "python",
   "nbconvert_exporter": "python"
  }
 },
 "nbformat": 4,
 "nbformat_minor": 5
}
