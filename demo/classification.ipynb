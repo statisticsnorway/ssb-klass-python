{
 "cells": [
  {
   "cell_type": "code",
   "execution_count": null,
   "id": "b04e8fc4-a8b4-4dfa-abd5-ce2b9497c2a8",
   "metadata": {
    "tags": []
   },
   "outputs": [],
   "source": [
    "import requests\n",
    "#requests.get(\"https://data.ssb.no/api/klass/v1/classifications/131/changes.json?from=2018-01-01&language=nb&includeFuture=false\").json()"
   ]
  },
  {
   "cell_type": "code",
   "execution_count": null,
   "id": "880a3e4f-fd2d-4cf8-834f-61a0b6f23fad",
   "metadata": {
    "tags": []
   },
   "outputs": [],
   "source": [
    "from klass import changes, KlassConfig"
   ]
  },
  {
   "cell_type": "code",
   "execution_count": null,
   "id": "720706bc-1985-4fde-839c-da441ab20289",
   "metadata": {
    "tags": []
   },
   "outputs": [],
   "source": [
    "from klass import sections_list"
   ]
  },
  {
   "cell_type": "code",
   "execution_count": null,
   "id": "d1adbbcc-38cb-49e2-a0e0-c226f2580d44",
   "metadata": {
    "tags": []
   },
   "outputs": [],
   "source": [
    "sections_list()"
   ]
  },
  {
   "cell_type": "code",
   "execution_count": null,
   "id": "78dfce8f-5789-4b43-9c15-bfb3befcaf69",
   "metadata": {
    "tags": []
   },
   "outputs": [],
   "source": [
    "KlassConfig().TESTING = True"
   ]
  },
  {
   "cell_type": "code",
   "execution_count": null,
   "id": "fa65279d-f92a-4aae-8a1b-573d41f504c3",
   "metadata": {
    "tags": []
   },
   "outputs": [],
   "source": [
    "changes(131, \"2018-01-01\")"
   ]
  },
  {
   "cell_type": "code",
   "execution_count": null,
   "id": "334b34a7-1fbe-463b-b1e0-d18e6f66ef8f",
   "metadata": {},
   "outputs": [],
   "source": []
  },
  {
   "cell_type": "code",
   "execution_count": null,
   "id": "fc1be1cb-9cd9-4d0f-a247-c30d639e3850",
   "metadata": {
    "tags": []
   },
   "outputs": [],
   "source": [
    "import pandas as pd\n",
    "from klass import KlassClassification"
   ]
  },
  {
   "cell_type": "code",
   "execution_count": null,
   "id": "d1fa783d-adce-4693-b37b-720a8fa490f3",
   "metadata": {
    "tags": []
   },
   "outputs": [],
   "source": [
    "nus = KlassClassification(36)"
   ]
  },
  {
   "cell_type": "code",
   "execution_count": null,
   "id": "88774c9f-1d1a-4543-9a8d-ae300de37fca",
   "metadata": {
    "tags": []
   },
   "outputs": [],
   "source": [
    "nus.variants"
   ]
  },
  {
   "cell_type": "code",
   "execution_count": null,
   "id": "cbc480a6-8ffb-4617-875c-9e5a75ca6d94",
   "metadata": {
    "tags": []
   },
   "outputs": [],
   "source": [
    "fodestuer = fodestuer.get_codes(\"2019-01-01\")"
   ]
  },
  {
   "cell_type": "code",
   "execution_count": null,
   "id": "b040789e-5573-43fa-b4e0-2a468dc4c5d5",
   "metadata": {
    "tags": []
   },
   "outputs": [],
   "source": [
    "#fodestuer.data"
   ]
  },
  {
   "cell_type": "code",
   "execution_count": null,
   "id": "178d7278-990d-4f09-a6c9-5a738dd8031c",
   "metadata": {
    "tags": []
   },
   "outputs": [],
   "source": [
    "fodestuer_map = fodestuer.to_dict(other=\"mangler\")\n",
    "fodestuer_map[\"bør mangle\"]"
   ]
  },
  {
   "cell_type": "code",
   "execution_count": null,
   "id": "cfa78c1f-5d77-46b0-ab31-ea295cd4c474",
   "metadata": {
    "tags": []
   },
   "outputs": [],
   "source": [
    "fodestuer_map[\"03\"]"
   ]
  },
  {
   "cell_type": "code",
   "execution_count": null,
   "id": "4f6af093-caf2-42b1-9435-116769ab9722",
   "metadata": {
    "tags": []
   },
   "outputs": [],
   "source": [
    "pd.json_normalize(fodestuer.classificationItems)"
   ]
  },
  {
   "cell_type": "code",
   "execution_count": null,
   "id": "eec86a62-ef9c-43b9-9850-0feca460d6dc",
   "metadata": {
    "tags": []
   },
   "outputs": [],
   "source": [
    "landkoder = KlassClassification(100)"
   ]
  },
  {
   "cell_type": "code",
   "execution_count": null,
   "id": "c477a843-f5fd-44d2-a045-b627247a1cf4",
   "metadata": {
    "tags": []
   },
   "outputs": [],
   "source": [
    "print(landkoder)"
   ]
  },
  {
   "cell_type": "code",
   "execution_count": null,
   "id": "c8690bcd-dde9-47f7-8a7b-197f326849c4",
   "metadata": {
    "tags": []
   },
   "outputs": [],
   "source": [
    "#landkoder.versions"
   ]
  },
  {
   "cell_type": "code",
   "execution_count": null,
   "id": "634f2691-1006-458f-b4af-c8a07d314c9f",
   "metadata": {
    "tags": []
   },
   "outputs": [],
   "source": [
    "koder = landkoder.get_codes(\"2020-11-01\")"
   ]
  },
  {
   "cell_type": "code",
   "execution_count": null,
   "id": "91f5be17-94dc-4084-93d3-78b8d7e78403",
   "metadata": {
    "tags": []
   },
   "outputs": [],
   "source": [
    "koder.data"
   ]
  }
 ],
 "metadata": {
  "language_info": {
   "codemirror_mode": {
    "name": "ipython"
   },
   "file_extension": ".py",
   "mimetype": "text/x-python",
   "name": "python",
   "nbconvert_exporter": "python"
  }
 },
 "nbformat": 4,
 "nbformat_minor": 5
}
