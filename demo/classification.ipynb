{
 "cells": [
  {
   "cell_type": "code",
   "execution_count": null,
   "id": "b2615ef9-1aa7-4012-90df-409596291f60",
   "metadata": {
    "tags": []
   },
   "outputs": [],
   "source": [
    "import requests\n",
    "requests.__version__"
   ]
  },
  {
   "cell_type": "code",
   "execution_count": null,
   "id": "880a3e4f-fd2d-4cf8-834f-61a0b6f23fad",
   "metadata": {
    "tags": []
   },
   "outputs": [],
   "source": [
    "from klass import KlassClassification"
   ]
  },
  {
   "cell_type": "code",
   "execution_count": null,
   "id": "d1fa783d-adce-4693-b37b-720a8fa490f3",
   "metadata": {
    "tags": []
   },
   "outputs": [],
   "source": [
    "# ID found from website: https://www.ssb.no/klass/\n",
    "nus = KlassClassification(36)\n",
    "print(nus)"
   ]
  },
  {
   "cell_type": "code",
   "execution_count": null,
   "id": "0269d81f-984b-470e-b4e5-c00179bf0752",
   "metadata": {
    "tags": []
   },
   "outputs": [],
   "source": [
    "# Reformatting for fun\n",
    "nus.versions_dict()"
   ]
  },
  {
   "cell_type": "code",
   "execution_count": null,
   "id": "88774c9f-1d1a-4543-9a8d-ae300de37fca",
   "metadata": {
    "tags": []
   },
   "outputs": [],
   "source": [
    "nuskoder = nus.get_codes(\"2023-01-01\")\n",
    "print(nuskoder)"
   ]
  },
  {
   "cell_type": "code",
   "execution_count": null,
   "id": "20b6de68-e6a6-43e1-a5a7-52e9b65bc0c8",
   "metadata": {
    "tags": []
   },
   "outputs": [],
   "source": [
    "nuskoder.pivot_level()"
   ]
  },
  {
   "cell_type": "code",
   "execution_count": null,
   "id": "db3ca621-2114-4e8a-8c84-c73d4f6f2a2f",
   "metadata": {
    "tags": []
   },
   "outputs": [],
   "source": [
    "nuskoder.data"
   ]
  },
  {
   "cell_type": "code",
   "execution_count": null,
   "id": "6cf1bf10-500b-407d-a436-30a3d39a2fb3",
   "metadata": {
    "tags": []
   },
   "outputs": [],
   "source": [
    "# The actual data is under the .data attribute\n",
    "nuskoder.data"
   ]
  },
  {
   "cell_type": "code",
   "execution_count": null,
   "id": "a16ce96c-d391-49e8-ace4-9222790c7235",
   "metadata": {
    "tags": []
   },
   "outputs": [],
   "source": [
    "# Pivots levels into seperate columns\n",
    "nuskoder.pivot_level()"
   ]
  },
  {
   "cell_type": "code",
   "execution_count": null,
   "id": "4cf5d29d-0e3f-4ac2-b803-478361345776",
   "metadata": {
    "tags": []
   },
   "outputs": [],
   "source": [
    "# You can filter to a level when getting codes, and then make dict from that level\n",
    "nus.get_codes(\"2023-01-01\", select_level=5).to_dict()"
   ]
  },
  {
   "cell_type": "code",
   "execution_count": null,
   "id": "503cb60a-b495-46bd-9559-b3ada0d72fe8",
   "metadata": {},
   "outputs": [],
   "source": []
  }
 ],
 "metadata": {
  "language_info": {
   "codemirror_mode": {
    "name": "ipython"
   },
   "file_extension": ".py",
   "mimetype": "text/x-python",
   "name": "python",
   "nbconvert_exporter": "python"
  }
 },
 "nbformat": 4,
 "nbformat_minor": 5
}
