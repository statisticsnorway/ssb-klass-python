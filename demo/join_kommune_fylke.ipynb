{
 "cells": [
  {
   "cell_type": "code",
   "execution_count": null,
   "id": "3975e0cc-69ca-407d-a9bb-cbf00878283b",
   "metadata": {
    "tags": []
   },
   "outputs": [],
   "source": [
    "import pandas as pd\n",
    "from klass import KlassClassification"
   ]
  },
  {
   "cell_type": "code",
   "execution_count": null,
   "id": "a3757644-c5df-4e4c-8652-0a426c5c79f8",
   "metadata": {
    "tags": []
   },
   "outputs": [],
   "source": [
    "kom = (KlassClassification(\"131\")\n",
    "       .get_codes(from_date=\"2022-01-01\")\n",
    "       .data\n",
    "       [['code', 'name']]\n",
    "       .rename(columns={'code': 'kommunenummer', 'name': 'kommune'}))\n",
    "fyl = (KlassClassification(\"104\")\n",
    "       .get_codes(from_date=\"2022-01-01\")\n",
    "       .data\n",
    "       [['code', 'name']]\n",
    "       .rename(columns={'code': 'fylkesnummer', 'name': 'fylke'}))"
   ]
  },
  {
   "cell_type": "code",
   "execution_count": null,
   "id": "d885c9ac-1464-4505-9d52-fb016a0a67dc",
   "metadata": {
    "tags": []
   },
   "outputs": [],
   "source": [
    "kom['fylkesnummer'] = kom['kommunenummer'].str[:2]\n",
    "komfyl = pd.merge(kom, fyl, how='left', on='fylkesnummer')\n",
    "komfyl"
   ]
  },
  {
   "cell_type": "code",
   "execution_count": null,
   "id": "50cbd555-494f-4945-a5f5-dd1b127769f5",
   "metadata": {},
   "outputs": [],
   "source": []
  }
 ],
 "metadata": {
  "language_info": {
   "codemirror_mode": {
    "name": "ipython"
   },
   "file_extension": ".py",
   "mimetype": "text/x-python",
   "name": "python",
   "nbconvert_exporter": "python"
  }
 },
 "nbformat": 4,
 "nbformat_minor": 5
}
