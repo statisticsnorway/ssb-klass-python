{
 "cells": [
  {
   "cell_type": "code",
   "execution_count": null,
   "id": "37bca4b5-d19e-4dc1-94d5-b637748c97ce",
   "metadata": {
    "tags": []
   },
   "outputs": [],
   "source": [
    "import os\n",
    "os.chdir(\"../\")"
   ]
  },
  {
   "cell_type": "code",
   "execution_count": null,
   "id": "fc1be1cb-9cd9-4d0f-a247-c30d639e3850",
   "metadata": {
    "tags": []
   },
   "outputs": [],
   "source": [
    "from klass import KlassClassification"
   ]
  },
  {
   "cell_type": "code",
   "execution_count": null,
   "id": "eec86a62-ef9c-43b9-9850-0feca460d6dc",
   "metadata": {
    "tags": []
   },
   "outputs": [],
   "source": [
    "nus2000 = KlassClassification(\"36\")"
   ]
  },
  {
   "cell_type": "code",
   "execution_count": null,
   "id": "c477a843-f5fd-44d2-a045-b627247a1cf4",
   "metadata": {
    "tags": []
   },
   "outputs": [],
   "source": [
    "print(nus2000)"
   ]
  },
  {
   "cell_type": "code",
   "execution_count": null,
   "id": "a3757644-c5df-4e4c-8652-0a426c5c79f8",
   "metadata": {
    "tags": []
   },
   "outputs": [],
   "source": [
    "nus2000_codes = nus2000.get_codes(from_date=\"2021-01-01\")"
   ]
  },
  {
   "cell_type": "code",
   "execution_count": null,
   "id": "35c5b544-958a-4d1b-aaea-55f71c771f41",
   "metadata": {
    "tags": []
   },
   "outputs": [],
   "source": [
    "print(nus2000_codes)"
   ]
  },
  {
   "cell_type": "code",
   "execution_count": null,
   "id": "f92cae52-7c74-4521-a2c1-3d0bb63a8f61",
   "metadata": {
    "tags": []
   },
   "outputs": [],
   "source": [
    "nus2000_codes"
   ]
  },
  {
   "cell_type": "code",
   "execution_count": null,
   "id": "48f3b13d-9d2d-4163-a1d8-7bff9601e925",
   "metadata": {
    "tags": []
   },
   "outputs": [],
   "source": [
    "nus2000_codes.data"
   ]
  },
  {
   "cell_type": "code",
   "execution_count": null,
   "id": "e5bae147-2e24-4596-b688-308c0f129b02",
   "metadata": {
    "tags": []
   },
   "outputs": [],
   "source": [
    "nus2014 = nus2000.get_version(70)"
   ]
  },
  {
   "cell_type": "code",
   "execution_count": null,
   "id": "dbcac205-2025-4a7e-af46-20441955a796",
   "metadata": {
    "tags": []
   },
   "outputs": [],
   "source": [
    "print(nus2014)"
   ]
  },
  {
   "cell_type": "code",
   "execution_count": null,
   "id": "25063d3c-6b96-49ca-a7d9-45eb5060336b",
   "metadata": {
    "tags": []
   },
   "outputs": [],
   "source": [
    "nus2014.levels"
   ]
  },
  {
   "cell_type": "code",
   "execution_count": null,
   "id": "aab8ff53-8144-4059-b80c-90124a12256f",
   "metadata": {
    "tags": []
   },
   "outputs": [],
   "source": [
    "nus2014.classification_codes(\"Utdanningskode\")"
   ]
  },
  {
   "cell_type": "code",
   "execution_count": null,
   "id": "a8d345e3-5e61-4f5e-93e2-9bbcd235a23e",
   "metadata": {},
   "outputs": [],
   "source": []
  }
 ],
 "metadata": {
  "language_info": {
   "codemirror_mode": {
    "name": "ipython"
   },
   "file_extension": ".py",
   "mimetype": "text/x-python",
   "name": "python",
   "nbconvert_exporter": "python"
  }
 },
 "nbformat": 4,
 "nbformat_minor": 5
}
