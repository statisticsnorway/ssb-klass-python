{
 "cells": [
  {
   "cell_type": "code",
   "execution_count": null,
   "id": "185bcf08-af3b-41d8-8299-d12051b1a014",
   "metadata": {
    "tags": []
   },
   "outputs": [],
   "source": [
    "import os\n",
    "os.chdir(\"../\")"
   ]
  },
  {
   "cell_type": "code",
   "execution_count": null,
   "id": "c199fe3c-6bdb-49ea-a866-b309c3d1bccd",
   "metadata": {
    "tags": []
   },
   "outputs": [],
   "source": [
    "from klass import KlassSearchClassificationFamilies, KlassClassificationFamily"
   ]
  },
  {
   "cell_type": "code",
   "execution_count": null,
   "id": "938a76f5-4e7b-4d2b-9651-9c3bccbeedc7",
   "metadata": {
    "tags": []
   },
   "outputs": [],
   "source": [
    "search = KlassSearchClassificationFamilies()"
   ]
  },
  {
   "cell_type": "code",
   "execution_count": null,
   "id": "788e6634-6c53-4c03-8ce0-127da6898304",
   "metadata": {
    "tags": []
   },
   "outputs": [],
   "source": [
    "print(search)"
   ]
  },
  {
   "cell_type": "code",
   "execution_count": null,
   "id": "c32c1097-f96a-4b15-8098-4530439d6612",
   "metadata": {
    "tags": []
   },
   "outputs": [],
   "source": [
    "utdanning = KlassClassificationFamily(20)"
   ]
  },
  {
   "cell_type": "code",
   "execution_count": null,
   "id": "c67b94c5-ab20-4083-851b-9f1add56e565",
   "metadata": {
    "tags": []
   },
   "outputs": [],
   "source": [
    "utdanning.__dict__"
   ]
  },
  {
   "cell_type": "code",
   "execution_count": null,
   "id": "d655c478-3982-42b9-896a-590e1f308c9a",
   "metadata": {
    "tags": []
   },
   "outputs": [],
   "source": [
    "utdanning.name"
   ]
  },
  {
   "cell_type": "code",
   "execution_count": null,
   "id": "ea195d31-680f-4cc6-a5c8-c518fd28a4be",
   "metadata": {
    "tags": []
   },
   "outputs": [],
   "source": [
    "utdanning.contactPerson"
   ]
  },
  {
   "cell_type": "code",
   "execution_count": null,
   "id": "12e6cab9-0f48-455a-ae61-7859cc4c1cf1",
   "metadata": {
    "tags": []
   },
   "outputs": [],
   "source": [
    "utdanning.owningSection"
   ]
  },
  {
   "cell_type": "code",
   "execution_count": null,
   "id": "6a40b7cd-a10e-40ab-9d47-ed5cd282293c",
   "metadata": {},
   "outputs": [],
   "source": []
  }
 ],
 "metadata": {
  "language_info": {
   "codemirror_mode": {
    "name": "ipython"
   },
   "file_extension": ".py",
   "mimetype": "text/x-python",
   "name": "python",
   "nbconvert_exporter": "python"
  }
 },
 "nbformat": 4,
 "nbformat_minor": 5
}
